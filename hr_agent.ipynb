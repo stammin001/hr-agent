{
 "cells": [
  {
   "cell_type": "code",
   "execution_count": 2,
   "metadata": {},
   "outputs": [
    {
     "name": "stderr",
     "output_type": "stream",
     "text": [
      "c:\\Users\\sures\\anaconda3\\envs\\lc-agent-2\\lib\\site-packages\\langchain_core\\_api\\deprecation.py:189: LangChainDeprecationWarning: The class `OpenAIEmbeddings` was deprecated in LangChain 0.1.0 and will be removed in 0.2.0. Use langchain_openai.OpenAIEmbeddings instead.\n",
      "  warn_deprecated(\n",
      "c:\\Users\\sures\\anaconda3\\envs\\lc-agent-2\\lib\\site-packages\\langchain_core\\_api\\deprecation.py:189: LangChainDeprecationWarning: The class `ChatOpenAI` was deprecated in LangChain 0.1.0 and will be removed in 0.2.0. Use langchain_openai.ChatOpenAI instead.\n",
      "  warn_deprecated(\n"
     ]
    }
   ],
   "source": [
    "import streamlit as st\n",
    "\n",
    "from langchain.document_loaders import RecursiveUrlLoader, TextLoader, JSONLoader, PyPDFLoader\n",
    "from langchain.document_transformers import Html2TextTransformer\n",
    "from langchain.docstore.document import Document\n",
    "from langchain_community.embeddings.openai import OpenAIEmbeddings\n",
    "from langchain.text_splitter import RecursiveCharacterTextSplitter, CharacterTextSplitter\n",
    "from langchain.vectorstores.faiss import FAISS\n",
    "from langchain.vectorstores import Chroma\n",
    "from langchain.callbacks import StreamlitCallbackHandler\n",
    "from langchain.tools import tool\n",
    "from langchain.tools.json.tool import JsonSpec\n",
    "from langchain.agents import OpenAIFunctionsAgent, AgentExecutor, load_tools\n",
    "#from langchain_experimental.tools.python.tool import PythonREPLTool\n",
    "from langchain.agents.agent_toolkits import create_retriever_tool, JsonToolkit\n",
    "from langchain.agents.openai_functions_agent.agent_token_buffer_memory import (AgentTokenBufferMemory,)\n",
    "from langchain.schema import SystemMessage, AIMessage, HumanMessage\n",
    "from langchain.prompts import MessagesPlaceholder, ChatPromptTemplate\n",
    "from langsmith import Client\n",
    "from langchain_community.vectorstores.redis import Redis\n",
    "from langchain_community.chat_models.openai import ChatOpenAI\n",
    "\n",
    "import os, openai, requests, json, zeep, datetime, pandas as pd\n",
    "from requests.auth import HTTPBasicAuth\n",
    "from dotenv import load_dotenv, find_dotenv\n",
    "from zeep.wsse.username import UsernameToken\n",
    "\n",
    "_ = load_dotenv(find_dotenv()) # read local .env file\n",
    "openai.api_key  = os.getenv('OPENAI_API_KEY')\n",
    "#model = \"gpt-4-1106-preview\"\n",
    "model = \"gpt-3.5-turbo\"\n",
    "\n",
    "embeddings = OpenAIEmbeddings()\n",
    "chat = ChatOpenAI(temperature=0.0, model=model)\n",
    "\n",
    "TENANT = 'wdmarketdesk_dpt1'\n",
    "WD_USER_ID = os.getenv('WD_USER_ID')\n",
    "WD_PWD = os.getenv('WD_PWD')\n",
    "WD_Worker_URL = \"https://impl-services1.wd12.myworkday.com/ccx/service/customreport2/wdmarketdesk_dpt1/xjin-impl/Worker_Data_2?format=json\"\n",
    "WD_Absence_URL = \"https://impl-services1.wd12.myworkday.com/ccx/service/customreport2/wdmarketdesk_dpt1/xjin-impl/Worker_Absence_Data?format=json\"\n",
    "WD_COMP_URL = \"https://impl-services1.wd12.myworkday.com/ccx/service/customreport2/wdmarketdesk_dpt1/xjin-impl/Worker_Comp_Data?format=json\"\n",
    "WD_STAFFING_WSDL_URL = \"https://impl-services1.wd12.myworkday.com/ccx/service/wdmarketdesk_dpt1/Staffing/v41.1?wsdl\"\n",
    "WD_HR_WSDL_URL = \"https://impl-services1.wd12.myworkday.com/ccx/service/wdmarketdesk_dpt1/Human_Resources/v42.0?wsdl\"\n",
    "\n",
    "REDIS_URL = os.getenv('REDIS_URL')\n",
    "\n",
    "basicAuth = HTTPBasicAuth(WD_USER_ID, WD_PWD)\n",
    "#wd_hr_client = zeep.Client(WD_HR_WSDL_URL, wsse=UsernameToken(WD_USER_ID + '@' + TENANT, WD_PWD)) \n",
    "#wd_staffing_client = zeep.Client(WD_STAFFING_WSDL_URL, wsse=UsernameToken(WD_USER_ID + '@' + TENANT, WD_PWD))"
   ]
  },
  {
   "cell_type": "markdown",
   "metadata": {},
   "source": [
    "### Clean-Up Indexes as Needed"
   ]
  },
  {
   "cell_type": "code",
   "execution_count": 59,
   "metadata": {},
   "outputs": [
    {
     "data": {
      "text/plain": [
       "True"
      ]
     },
     "execution_count": 59,
     "metadata": {},
     "output_type": "execute_result"
    }
   ],
   "source": [
    "#rds.drop_index('worker_hr', delete_documents=True)\n",
    "#rds_policies.drop_index('hr_policies', delete_documents=True)\n",
    "\n",
    "#print(chat)"
   ]
  },
  {
   "cell_type": "markdown",
   "metadata": {},
   "source": [
    "### Redis Standard Cache"
   ]
  },
  {
   "cell_type": "code",
   "execution_count": 38,
   "metadata": {},
   "outputs": [],
   "source": [
    "from langchain.cache import RedisCache\n",
    "from langchain.globals import set_llm_cache\n",
    "import redis\n",
    "\n",
    "redis_client = redis.Redis.from_url(REDIS_URL)\n",
    "\n",
    "set_llm_cache(RedisCache(redis_client))"
   ]
  },
  {
   "cell_type": "markdown",
   "metadata": {},
   "source": [
    "### Clean-Up Redis Standard Cache"
   ]
  },
  {
   "cell_type": "code",
   "execution_count": 41,
   "metadata": {},
   "outputs": [
    {
     "name": "stdout",
     "output_type": "stream",
     "text": [
      "[]\n"
     ]
    }
   ],
   "source": [
    "from langchain.globals import get_llm_cache\n",
    "\n",
    "redis_cache = get_llm_cache()\n",
    "\n",
    "import re\n",
    "\n",
    "patterns = [r'worker', r'redis', r'doc']  # Add your patterns here\n",
    "keys = None\n",
    "\n",
    "keys = redis_cache.redis.keys()\n",
    "\n",
    "filtered_keys = [key for key in keys if not any(re.search(pattern, key.decode('utf-8')) for pattern in patterns)]\n",
    "\n",
    "print(filtered_keys)\n",
    "\n",
    "for key in filtered_keys:\n",
    "    redis_cache.redis.delete(key)\n",
    "    pass   \n"
   ]
  },
  {
   "cell_type": "markdown",
   "metadata": {},
   "source": [
    "### Redis Semantic Cache"
   ]
  },
  {
   "cell_type": "code",
   "execution_count": 29,
   "metadata": {},
   "outputs": [
    {
     "name": "stderr",
     "output_type": "stream",
     "text": [
      "c:\\Users\\sures\\anaconda3\\envs\\lc-agent-2\\lib\\site-packages\\langchain_core\\_api\\deprecation.py:189: LangChainDeprecationWarning: The class `OpenAIEmbeddings` was deprecated in LangChain 0.1.0 and will be removed in 0.2.0. Use langchain_openai.OpenAIEmbeddings instead.\n",
      "  warn_deprecated(\n"
     ]
    }
   ],
   "source": [
    "from langchain.cache import RedisSemanticCache\n",
    "from langchain.globals import set_llm_cache\n",
    "\n",
    "set_llm_cache(\n",
    "    RedisSemanticCache(redis_url=REDIS_URL, embedding=OpenAIEmbeddings(), score_threshold=0.001)\n",
    ")"
   ]
  },
  {
   "cell_type": "markdown",
   "metadata": {},
   "source": [
    "### Clean-Up Redis Semantic Cache Keys"
   ]
  },
  {
   "cell_type": "code",
   "execution_count": 12,
   "metadata": {},
   "outputs": [
    {
     "name": "stdout",
     "output_type": "stream",
     "text": [
      "Keys from Semantic Cache: [] and type: <class 'list'>\n",
      "[]\n"
     ]
    }
   ],
   "source": [
    "from langchain.globals import get_llm_cache\n",
    "\n",
    "redis_cache = get_llm_cache()\n",
    "\n",
    "import re\n",
    "\n",
    "patterns = [r'worker', r'redis', r'doc']  # Add your patterns here\n",
    "keys = None\n",
    "\n",
    "keys = list(redis_cache._cache_dict.keys())\n",
    "print(f\"Keys from Semantic Cache: {keys} and type: {type(keys)}\")\n",
    "\n",
    "filtered_keys = [key for key in keys if not any(re.search(pattern, key) for pattern in patterns)]\n",
    "\n",
    "print(filtered_keys)\n",
    "\n",
    "for key in filtered_keys:\n",
    "    redis_cache._cache_dict[key].drop_index(\n",
    "        index_name=key, delete_documents=True, redis_url=REDIS_URL\n",
    "    )\n",
    "    del redis_cache._cache_dict[key]\n",
    "    pass   \n"
   ]
  },
  {
   "cell_type": "code",
   "execution_count": 60,
   "metadata": {},
   "outputs": [],
   "source": [
    "def get_worker_data_raas():\n",
    "    response = requests.get(WD_Worker_URL, auth = basicAuth)\n",
    "    responseJson = json.dumps(json.loads(response.content))\n",
    "    \n",
    "    return response #responseJson"
   ]
  },
  {
   "cell_type": "code",
   "execution_count": 61,
   "metadata": {},
   "outputs": [
    {
     "name": "stdout",
     "output_type": "stream",
     "text": [
      "Initializing with Worker data in Redis\n"
     ]
    }
   ],
   "source": [
    "\"\"\"Initializes with all of worker data. If any information is not found, \\\n",
    "please use this tool as the default tool to look for the data needed. \\\n",
    "Do not try to get the same data more than 2 times.\n",
    "\"\"\"\n",
    "print(\"Initializing with Worker data in Redis\")\n",
    "worker_json = get_worker_data_raas()\n",
    "#worker_df = pd.DataFrame(worker_json)\n",
    "\n",
    "#print(f\"Worker DF: {worker_df}\")"
   ]
  },
  {
   "cell_type": "code",
   "execution_count": 62,
   "metadata": {},
   "outputs": [
    {
     "name": "stdout",
     "output_type": "stream",
     "text": [
      "{'Employee_Type': 'Regular', 'country': 'United States of America', 'city': 'San Francisco', 'Team_Members': 'Robert Hsing; Pedro Santiago; Tammy Calhoun; Henry Lynch; Logan McNeil; Alex Garcia', 'Cost_Center': '41600 HR Services', 'Address_-_Formatted_Line_1': '42 Laurel Street', 'Employee_ID': '21001', 'Employee_Legal_Full_Name': 'Logan McNeil', 'State_ISO_Code': 'CA', 'Manager_Name': 'Joy Banks', 'businessTitle': 'Vice President, Human Resources', 'FTE': '1', 'Company_Name': 'Global Modern Services, Inc. (USA)', 'Job_Profile': 'Vice President, Human Resources', 'Age': '52', 'Time_Type': 'Full time'}\n",
      "501\n",
      "Employee_Type is Regular, country is United States of America, city is San Francisco, Team_Members is Robert Hsing; Pedro Santiago; Tammy Calhoun; Henry Lynch; Logan McNeil; Alex Garcia, Cost_Center is 41600 HR Services, Address_-_Formatted_Line_1 is 42 Laurel Street, Employee_ID is 21001, Employee_Legal_Full_Name is Logan McNeil, State_ISO_Code is CA, Manager_Name is Joy Banks, businessTitle is Vice President, Human Resources, FTE is 1, Company_Name is Global Modern Services, Inc. (USA), Job_Profile is Vice President, Human Resources, Age is 52, Time_Type is Full time, Employee_Preferred_Full_Name is nan\n",
      "<class 'pandas.core.series.Series'>\n"
     ]
    }
   ],
   "source": [
    "worker_data = json.loads(worker_json.content)\n",
    "worker_df = pd.DataFrame(worker_data['Report_Entry'])\n",
    "\n",
    "print(worker_data['Report_Entry'][0])\n",
    "print(len(worker_data['Report_Entry']))\n",
    "\n",
    "worker_content = worker_df.apply(lambda row: ', '.join([f'{k} is {v}' for k, v in row.map(str).items()]), axis=1).transform(''.join)\n",
    "print(worker_content[0])\n",
    "print(type(worker_content))"
   ]
  },
  {
   "cell_type": "code",
   "execution_count": 63,
   "metadata": {},
   "outputs": [],
   "source": [
    "rds = Redis.from_texts(\n",
    "    worker_content,\n",
    "    embeddings,\n",
    "    metadatas=worker_data['Report_Entry'],\n",
    "    redis_url=\"redis://redis-10042.c280.us-central1-2.gce.cloud.redislabs.com:10042\",\n",
    "    password=\"1iI48215k0GAEC3gzmpfPrXD2UDXYOYN\",\n",
    "    index_name=\"worker_hr\"\n",
    ")"
   ]
  },
  {
   "cell_type": "code",
   "execution_count": 64,
   "metadata": {},
   "outputs": [],
   "source": [
    "rds.write_schema(\"worker_hr.yaml\")"
   ]
  },
  {
   "cell_type": "markdown",
   "metadata": {},
   "source": [
    "### Load New HR Policies"
   ]
  },
  {
   "cell_type": "code",
   "execution_count": 65,
   "metadata": {},
   "outputs": [],
   "source": [
    "loader = PyPDFLoader(\"docs/HR_Policies.pdf\")\n",
    "pages = loader.load()"
   ]
  },
  {
   "cell_type": "code",
   "execution_count": 66,
   "metadata": {},
   "outputs": [
    {
     "name": "stdout",
     "output_type": "stream",
     "text": [
      "{'source': 'docs/HR_Policies.pdf', 'page': 126}\n",
      "{'source': 'docs/HR_Policies.pdf', 'page': 127}\n",
      "{'source': 'docs/HR_Policies.pdf', 'page': 128}\n",
      "{'source': 'docs/HR_Policies.pdf', 'page': 129}\n",
      "{'source': 'docs/HR_Policies.pdf', 'page': 130}\n",
      "{'source': 'docs/HR_Policies.pdf', 'page': 131}\n",
      "{'source': 'docs/HR_Policies.pdf', 'page': 132}\n",
      "{'source': 'docs/HR_Policies.pdf', 'page': 133}\n",
      "{'source': 'docs/HR_Policies.pdf', 'page': 134}\n",
      "{'source': 'docs/HR_Policies.pdf', 'page': 135}\n"
     ]
    }
   ],
   "source": [
    "for page in pages[len(pages) - 10:len(pages)]:\n",
    "    print(page.metadata)\n",
    "\n",
    "policies_content = []\n",
    "policies_metadata = []\n",
    "for page in pages:\n",
    "    policies_content.append(page.page_content)\n",
    "    policies_metadata.append(page.metadata)"
   ]
  },
  {
   "cell_type": "code",
   "execution_count": 67,
   "metadata": {},
   "outputs": [],
   "source": [
    "rds_policies = Redis.from_texts(\n",
    "    policies_content,\n",
    "    embeddings,\n",
    "    metadatas=policies_metadata,\n",
    "    redis_url=\"redis://redis-10042.c280.us-central1-2.gce.cloud.redislabs.com:10042\",\n",
    "    password=\"1iI48215k0GAEC3gzmpfPrXD2UDXYOYN\",\n",
    "    index_name=\"hr_policies\"\n",
    ")"
   ]
  },
  {
   "cell_type": "code",
   "execution_count": 68,
   "metadata": {},
   "outputs": [],
   "source": [
    "rds_policies.write_schema(\"hr_policies.yaml\")"
   ]
  },
  {
   "cell_type": "markdown",
   "metadata": {},
   "source": [
    "### Load Admin-Guides"
   ]
  },
  {
   "cell_type": "code",
   "execution_count": 3,
   "metadata": {},
   "outputs": [],
   "source": [
    "loader = PyPDFLoader(\"docs/Admin-Guide-Human-Capital-Management.pdf\")\n",
    "pages = loader.load()"
   ]
  },
  {
   "cell_type": "code",
   "execution_count": 4,
   "metadata": {},
   "outputs": [
    {
     "name": "stdout",
     "output_type": "stream",
     "text": [
      "{'source': 'docs/Admin-Guide-Human-Capital-Management.pdf', 'page': 2412}\n",
      "{'source': 'docs/Admin-Guide-Human-Capital-Management.pdf', 'page': 2413}\n",
      "{'source': 'docs/Admin-Guide-Human-Capital-Management.pdf', 'page': 2414}\n",
      "{'source': 'docs/Admin-Guide-Human-Capital-Management.pdf', 'page': 2415}\n",
      "{'source': 'docs/Admin-Guide-Human-Capital-Management.pdf', 'page': 2416}\n",
      "{'source': 'docs/Admin-Guide-Human-Capital-Management.pdf', 'page': 2417}\n",
      "{'source': 'docs/Admin-Guide-Human-Capital-Management.pdf', 'page': 2418}\n",
      "{'source': 'docs/Admin-Guide-Human-Capital-Management.pdf', 'page': 2419}\n",
      "{'source': 'docs/Admin-Guide-Human-Capital-Management.pdf', 'page': 2420}\n",
      "{'source': 'docs/Admin-Guide-Human-Capital-Management.pdf', 'page': 2421}\n"
     ]
    }
   ],
   "source": [
    "for page in pages[len(pages) - 10:len(pages)]:\n",
    "    print(page.metadata)\n",
    "\n",
    "admin_content = []\n",
    "admin_metadata = []\n",
    "for page in pages:\n",
    "    admin_content.append(page.page_content)\n",
    "    admin_metadata.append(page.metadata)"
   ]
  },
  {
   "cell_type": "code",
   "execution_count": 7,
   "metadata": {},
   "outputs": [],
   "source": [
    "rds_admin_guides = Redis.from_texts(\n",
    "    admin_content,\n",
    "    embeddings,\n",
    "    metadatas=admin_metadata,\n",
    "    redis_url=\"redis://redis-10042.c280.us-central1-2.gce.cloud.redislabs.com:10042\",\n",
    "    password=\"1iI48215k0GAEC3gzmpfPrXD2UDXYOYN\",\n",
    "    index_name=\"admin_guides\"\n",
    ")"
   ]
  },
  {
   "cell_type": "code",
   "execution_count": 8,
   "metadata": {},
   "outputs": [],
   "source": [
    "rds_admin_guides.write_schema(\"admin_guides.yaml\")"
   ]
  },
  {
   "cell_type": "markdown",
   "metadata": {},
   "source": [
    "### Load Existing Worker HR Data"
   ]
  },
  {
   "cell_type": "code",
   "execution_count": 69,
   "metadata": {},
   "outputs": [],
   "source": [
    "rds = Redis.from_existing_index(\n",
    "    embeddings,\n",
    "    index_name=\"worker_hr\",\n",
    "    redis_url=\"redis://redis-10042.c280.us-central1-2.gce.cloud.redislabs.com:10042\",\n",
    "    password=\"1iI48215k0GAEC3gzmpfPrXD2UDXYOYN\",\n",
    "    schema=\"worker_hr.yaml\",\n",
    ")"
   ]
  },
  {
   "cell_type": "markdown",
   "metadata": {},
   "source": [
    "### Load Existing HR Policies"
   ]
  },
  {
   "cell_type": "code",
   "execution_count": 3,
   "metadata": {},
   "outputs": [],
   "source": [
    "rds_policies = Redis.from_existing_index(\n",
    "    embeddings,\n",
    "    index_name=\"hr_policies\",\n",
    "    redis_url=\"redis://redis-10042.c280.us-central1-2.gce.cloud.redislabs.com:10042\",\n",
    "    password=\"1iI48215k0GAEC3gzmpfPrXD2UDXYOYN\",\n",
    "    schema=\"hr_policies.yaml\",\n",
    ")"
   ]
  },
  {
   "cell_type": "markdown",
   "metadata": {},
   "source": [
    "### Load Existing Admin Guides"
   ]
  },
  {
   "cell_type": "code",
   "execution_count": null,
   "metadata": {},
   "outputs": [],
   "source": [
    "rds_admin_guides = Redis.from_existing_index(\n",
    "    embeddings,\n",
    "    index_name=\"admin_guides\",\n",
    "    redis_url=\"redis://redis-10042.c280.us-central1-2.gce.cloud.redislabs.com:10042\",\n",
    "    password=\"1iI48215k0GAEC3gzmpfPrXD2UDXYOYN\",\n",
    "    schema=\"admin_guides.yaml\",\n",
    ")"
   ]
  },
  {
   "cell_type": "code",
   "execution_count": 4,
   "metadata": {},
   "outputs": [
    {
     "name": "stdout",
     "output_type": "stream",
     "text": [
      "21001\n",
      "21145\n",
      "21519\n"
     ]
    }
   ],
   "source": [
    "search_term = \"41600 HR Services\"\n",
    "results = rds.similarity_search(search_term, k=3)\n",
    "for result in results:\n",
    "    print(result.metadata['Employee_ID'])\n"
   ]
  },
  {
   "cell_type": "code",
   "execution_count": 5,
   "metadata": {},
   "outputs": [
    {
     "name": "stdout",
     "output_type": "stream",
     "text": [
      "Model: 21001 --- Score: 0.1892\n",
      "Model: 21145 --- Score: 0.1893\n",
      "Model: 21519 --- Score: 0.1924\n",
      "Model: 21143 --- Score: 0.194\n",
      "Model: 21144 --- Score: 0.1969\n"
     ]
    }
   ],
   "source": [
    "results = rds.similarity_search_with_score(search_term, k=5, distance_threshold=0.30)\n",
    "for result in results:\n",
    "    print(f\"Model: {result[0].metadata['Employee_ID']} --- Score: {result[1]}\")"
   ]
  },
  {
   "cell_type": "code",
   "execution_count": null,
   "metadata": {},
   "outputs": [],
   "source": [
    "from langchain.vectorstores.redis import RedisText, RedisNum, RedisTag\n",
    "\n",
    "context = \"\"\n",
    "query = \"what is the address of Charles Bradley\"\n",
    "is_emp_id = RedisNum(\"Employee_ID\") == 21072\n",
    "results = rds.similarity_search_with_score(query, k=3) #, filter=is_emp_id if is_emp_id!=0 else None)\n",
    "for result in results:\n",
    "    print(f\"Model: {result[0].metadata['Employee_ID']} --- Score: {result[1]} --- Type: {type(result[0])}\")\n",
    "    print(f\"Content: {result[0].page_content}\")\n",
    "    context += result[0].page_content"
   ]
  },
  {
   "cell_type": "code",
   "execution_count": null,
   "metadata": {},
   "outputs": [],
   "source": [
    "employee_id = RedisNum(\"Employee_ID\") == 21072\n",
    "retriever = rds.as_retriever(search_type=\"similarity\", \n",
    "                             search_kwargs={\"k\": 4, \"filter\": employee_id if employee_id!=0 else None})\n",
    "docs = retriever.get_relevant_documents(\"\")\n",
    "for doc in docs:\n",
    "    print(doc.metadata['Employee_ID'])"
   ]
  },
  {
   "cell_type": "markdown",
   "metadata": {},
   "source": [
    "### Search EE Info with Citation    "
   ]
  },
  {
   "cell_type": "code",
   "execution_count": 28,
   "metadata": {},
   "outputs": [
    {
     "name": "stdout",
     "output_type": "stream",
     "text": [
      "The address of Charles Bradley is 48 Harbor Drive, Greenwich, CT, United States of America. [Employee_ID: 21072]\n"
     ]
    }
   ],
   "source": [
    "template_string = \"\"\"\n",
    "Consider the information below: \\\n",
    "{context}\n",
    "Provide answer to the {query}. Be very specific and relevant. \\\n",
    "For each answer, provide source in brackets based on what is in {sources}. \\\n",
    "\"\"\"\n",
    "\n",
    "prompt_template = ChatPromptTemplate.from_template(template_string)\n",
    "customer_messages = prompt_template.format_messages(context=context, \n",
    "                                                    query=query, sources={', '.join([result[0].metadata[\"Employee_ID\"] for result in results])})\n",
    "\n",
    "customer_response = chat(customer_messages)\n",
    "print(customer_response.content)"
   ]
  },
  {
   "cell_type": "markdown",
   "metadata": {},
   "source": [
    "### Search Policies with Citation"
   ]
  },
  {
   "cell_type": "code",
   "execution_count": 34,
   "metadata": {},
   "outputs": [],
   "source": [
    "context = \"\"\n",
    "#query = \"what are the leaves\"\n",
    "#query = \"how can we appeal to the grievance decision\"\n",
    "query = \"what are leave policies\"\n",
    "#query = \"what are study leave policies\"\n",
    "query = \"what are annual leave policies\"\n",
    "\n",
    "results_policies = rds_policies.similarity_search_with_score(query, k=3)\n",
    "for result in results_policies:\n",
    "    #print(result[0].metadata[\"source\"])\n",
    "    #print(result[0].page_content)\n",
    "    context += result[0].page_content"
   ]
  },
  {
   "cell_type": "code",
   "execution_count": null,
   "metadata": {},
   "outputs": [],
   "source": [
    "%%time\n",
    "template_string = \"\"\"\n",
    "Consider the information below: \\\n",
    "{context}\n",
    "Provide answer to the {query}. Be very specific and relevant. \\\n",
    "For each answer, provide source in brackets. \\\n",
    "Do not repeat the same source information in the same line.\n",
    "In the final response, always replace word KPPRA with GMS\n",
    "\"\"\"\n",
    "\n",
    "prompt_template = ChatPromptTemplate.from_template(template_string)\n",
    "customer_messages = prompt_template.format_messages(context=context, \n",
    "                                                    query=query, \n",
    "                                                    sources=\"\") #{', '.join([result[0].metadata[\"source\"]\n",
    "                                                                 #       for result in results_policies])})\n",
    "\n",
    "customer_response = chat(customer_messages)\n",
    "print(customer_response.content)"
   ]
  },
  {
   "cell_type": "code",
   "execution_count": null,
   "metadata": {},
   "outputs": [],
   "source": [
    "%%time\n",
    "query_2 = \"what are all the leave policies in the company\"\n",
    "#query_2 = \"how can we appeal to the decisions made for grievance in the company\"\n",
    "\n",
    "customer_messages_2 = prompt_template.format_messages(context=context, \n",
    "                                                    query=query_2, \n",
    "                                                    sources=\"\") #{', '.join([result[0].metadata[\"source\"]\n",
    "                                                                 #       for result in results_policies])})\n",
    "breakpoint()\n",
    "customer_response_2 = chat(customer_messages_2)\n",
    "print(customer_response_2.content)"
   ]
  },
  {
   "cell_type": "markdown",
   "metadata": {},
   "source": [
    "### Search Admin Guides"
   ]
  },
  {
   "cell_type": "code",
   "execution_count": 27,
   "metadata": {},
   "outputs": [
    {
     "name": "stdout",
     "output_type": "stream",
     "text": [
      " | Worker Information  | 55\n",
      "2.Access the Create Authority  task.\n",
      "Configure licensing authorities for countries and country regions. When you edit a person type's ID\n",
      "information, except beneficiaries, you can select the authority that issued the license ID.\n",
      "3.Create Identification Document Types  on page 55.\n",
      "4.Edit Business Processes .\n",
      "Configure business processes and their security policies in the Personal Data functional area.\n",
      "•Individual business processes for different ID types:\n",
      "•Edit Government IDs\n",
      "•Edit ID Information\n",
      "•Edit Licenses\n",
      "•Edit Other IDs\n",
      "•Passports and Visa Change\n",
      "•Edit ID Information  business process to modify any of the 4 ID types in 1 business process event.\n",
      "Related Information\n",
      "Reference\n",
      "Reference: ID Management  on page 57\n",
      "Workday Community: Global Matrix\n",
      "Workday Community: National IDs in Workday\n",
      "Create Identification Document Types\n",
      "Prerequisites\n",
      "•Configure reasons for using IDs.\n",
      "•Configure licensing authorities if you're creating a license ID type.\n",
      "•Security: Set Up: Contact Info, IDs, and Personal Data  domain in the Contact Information functional\n",
      "area.\n",
      "Context\n",
      "You can create different identification document types such as licenses and passports to comply with local\n",
      "regulatory requirements. You can then assign the IDs to:\n",
      "•Academic Persons\n",
      "•Beneficiaries\n",
      "•Contingent Workers\n",
      "•Employees\n",
      "•Pre-hires\n",
      "•Students\n",
      "Steps\n",
      "Access these tasks to create different ID types:\n",
      "•Maintain Additional Government ID Types\n",
      "•Maintain Custom ID Types\n",
      "•Maintain License ID Types\n",
      "•Maintain Passport ID Types\n",
      "•Maintain Visa ID Types\n",
      "As you complete these tasks, consider:\n",
      "      ©2024 Workday, Inc. All rights reserved Workday Proprietary and Confidential      \n",
      " | Worker Information  | 56\n",
      "Option Description\n",
      "ID Definition / Sequence Generator (Custom IDs only) Select from definitions created\n",
      "on the task for a custom ID type.\n",
      "Identifier Validation Indicate whether the ID values for the ID type must\n",
      "be unique:\n",
      "•Globally Unique : ID values must be unique\n",
      "across all issuers of the ID type.\n",
      "•Unique to Issuer : ID type values must be\n",
      "unique for a specific issuer, but are reusable by\n",
      "a different issuer.\n",
      "•Leave the field blank to require no ID recurrence\n",
      "validation.\n",
      "Workday issues a warning for duplicate IDs,\n",
      "but you can still save the reused value. If you\n",
      "change the Identifier Validation  setting, you could\n",
      "have existing duplicate IDs that violate the new\n",
      "validation.\n",
      "Global Identifier Usage Type Associate a usage type for reporting on specific\n",
      "usage types when you audit IDs that are about to\n",
      "expire to establish identity or provide international\n",
      "travel identification.\n",
      "Maps to (Additional Government IDs only) Select an ID\n",
      "type to which the government ID maps for the RUP\n",
      "(France) report.\n",
      "Public Enable access to custom ID data in a report field\n",
      "secured to a different domain than the domain for\n",
      "a custom ID. Example: If you don't have security\n",
      "access to the Person Data: Other IDs  domain, but\n",
      "you do have security access to the Worker Data:\n",
      "Current Staffing Information  domain, select the\n",
      "Public check box to provide access to the custom\n",
      "ID information.\n",
      "For noncustom IDs, the check box delivers a value\n",
      "that indicates if it’s selected.\n",
      "Note:  The Public check box doesn't make\n",
      "information public for ID types.\n",
      "Access an Encrypted National ID\n",
      "Context\n",
      "Some countries require that you store their National ID in an encrypted state. Workday complies with\n",
      "encryption requirements by storing data on disk.\n",
      "When you need an encrypted National ID, Workday can retrieve it and temporarily decrypt the data in an\n",
      "in-memory data cache. You can access the data for a single use and then Workday removes the data from\n",
      "memory.\n",
      "      ©2024 Workday, Inc. All rights reserved Workday Proprietary and Confidential      \n",
      " | Worker Information  | 54\n",
      "•Students\n",
      "Steps\n",
      "1.Create ID Definitions and Sequence Generators .\n",
      "Configure how Workday automatically generates Workday IDs such as employee IDs, contingent\n",
      "worker IDs, and universal IDs.\n",
      "2.Access the Edit Tenant Setup - HCM  task.\n",
      "Select the ID definition for the Workday ID from the applicable prompt in the ID Sequence Generators\n",
      "section.\n",
      "See Reference: Edit Tenant Setup - HCM .\n",
      "Security: Set Up: Tenant Setup - HCM  domain in the System functional area.\n",
      "3.(Optional) Access the Edit Tenant Setup - System  task.\n",
      "Select the ID definition from the ID Definition for Universal Id  prompt.\n",
      "See Reference: Edit Tenant Setup - System .\n",
      "Security: Set Up: Tenant Setup - System  domain in the System functional area.\n",
      "4.(Optional) Manually create a universal ID.\n",
      "Select Integration IDs  > Create Universal Id  from a worker's related actions menu.\n",
      "Security: Person Data: Universal ID  in the Personal Data functional area.\n",
      "5.(Optional) Access the Maintain Custom Labels  task.\n",
      "Create a different name for universal ids.\n",
      "Security: Custom Label Management  domain in System functional area.\n",
      "Related Information\n",
      "Reference\n",
      "Reference: ID Management  on page 57\n",
      "Steps: Set Up Identification Documents\n",
      "Prerequisites\n",
      "Security: Set Up: Contact Info, IDs, and Personal Data  domain in the Contact Information functional area.\n",
      "Context\n",
      "Workday enables you to add and track several types of external identification documents and custom IDs\n",
      "such as licenses and passports to comply with local regulatory requirements. You can assign the IDs to:\n",
      "•Academic persons\n",
      "•Beneficiaries\n",
      "•Contingent Workers\n",
      "•Employees\n",
      "•Pre-hires\n",
      "•Students\n",
      "Steps\n",
      "1.Access the Maintain Global Identifier Usage Types  task.\n",
      "Configure the reasons for using IDs such as to establish identity or provide international travel\n",
      "identification.\n",
      "When you create ID types, you can associate them with these usage types. You can then report on a\n",
      "specific usage type when you audit for IDs that are about to expire.\n",
      "      ©2024 Workday, Inc. All rights reserved Workday Proprietary and Confidential      \n"
     ]
    }
   ],
   "source": [
    "context = \"\"\n",
    "#query = \"how to manage flexible working arrangements\"\n",
    "#query = \"what is the best way to manage return to work\"\n",
    "query = \"what is the best way to handle requesting employees to return to work instead of working from home\"\n",
    "query = \"how to configure security settings for the system\"\n",
    "query = \"what are the options for different id types\"\n",
    "\n",
    "results = rds_admin_guides.similarity_search_with_score(query, k=3)\n",
    "for result in results:\n",
    "    #print(result[0].metadata)\n",
    "    print(result[0].page_content)\n",
    "    context += result[0].page_content\n",
    "    #context += result[0].metadata['source']\n",
    "    #context += result[0].metadata['page']"
   ]
  },
  {
   "cell_type": "code",
   "execution_count": 28,
   "metadata": {},
   "outputs": [
    {
     "name": "stderr",
     "output_type": "stream",
     "text": [
      "c:\\Users\\sures\\anaconda3\\envs\\lc-agent-2\\lib\\site-packages\\langchain_core\\_api\\deprecation.py:189: LangChainDeprecationWarning: The function `__call__` was deprecated in LangChain 0.1.7 and will be removed in 0.2.0. Use invoke instead.\n",
      "  warn_deprecated(\n"
     ]
    },
    {
     "name": "stdout",
     "output_type": "stream",
     "text": [
      "The options for different ID types include:\n",
      "\n",
      "1. Maintain Additional Government ID Types [Steps: Create Identification Document Types]\n",
      "2. Maintain Custom ID Types [Steps: Create Identification Document Types]\n",
      "3. Maintain License ID Types [Steps: Create Identification Document Types]\n",
      "4. Maintain Passport ID Types [Steps: Create Identification Document Types]\n",
      "5. Maintain Visa ID Types [Steps: Create Identification Document Types]\n",
      "\n",
      "(Source: Workday Community: Global Matrix, Page 55)\n",
      "CPU times: total: 188 ms\n",
      "Wall time: 3.04 s\n"
     ]
    }
   ],
   "source": [
    "%%time\n",
    "template_string = \"\"\"\n",
    "Consider the information below: \\\n",
    "{context}\n",
    "Provide answer to the {query}. Be very specific and relevant. \\\n",
    "For each answer, provide source including page number in brackets. \\\n",
    "Do not repeat the same source information in the same line.\n",
    "\"\"\"\n",
    "\n",
    "prompt_template = ChatPromptTemplate.from_template(template_string)\n",
    "customer_messages = prompt_template.format_messages(context=context, \n",
    "                                                    query=query, \n",
    "                                                    sources=\"\") #{', '.join([result[0].metadata[\"source\"]\n",
    "                                                                 #       for result in results_policies])})\n",
    "\n",
    "customer_response = chat(customer_messages)\n",
    "print(customer_response.content)"
   ]
  }
 ],
 "metadata": {
  "kernelspec": {
   "display_name": "lc-agent-2",
   "language": "python",
   "name": "python3"
  },
  "language_info": {
   "codemirror_mode": {
    "name": "ipython",
    "version": 3
   },
   "file_extension": ".py",
   "mimetype": "text/x-python",
   "name": "python",
   "nbconvert_exporter": "python",
   "pygments_lexer": "ipython3",
   "version": "3.10.11"
  }
 },
 "nbformat": 4,
 "nbformat_minor": 2
}
