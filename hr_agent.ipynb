{
 "cells": [
  {
   "cell_type": "code",
   "execution_count": 71,
   "metadata": {},
   "outputs": [],
   "source": [
    "import streamlit as st\n",
    "\n",
    "from langchain.document_loaders import RecursiveUrlLoader, TextLoader, JSONLoader\n",
    "from langchain.document_transformers import Html2TextTransformer\n",
    "from langchain.docstore.document import Document\n",
    "from langchain.embeddings import OpenAIEmbeddings\n",
    "from langchain.text_splitter import RecursiveCharacterTextSplitter, CharacterTextSplitter\n",
    "from langchain.vectorstores.faiss import FAISS\n",
    "from langchain.vectorstores import Chroma\n",
    "from langchain.callbacks import StreamlitCallbackHandler\n",
    "from langchain.tools import tool\n",
    "from langchain.tools.json.tool import JsonSpec\n",
    "from langchain.agents import OpenAIFunctionsAgent, AgentExecutor, load_tools\n",
    "#from langchain_experimental.tools.python.tool import PythonREPLTool\n",
    "from langchain.agents.agent_toolkits import create_retriever_tool, JsonToolkit\n",
    "from langchain.agents.openai_functions_agent.agent_token_buffer_memory import (AgentTokenBufferMemory,)\n",
    "from langchain.chat_models import ChatOpenAI\n",
    "from langchain.schema import SystemMessage, AIMessage, HumanMessage\n",
    "from langchain.prompts import MessagesPlaceholder\n",
    "from langsmith import Client\n",
    "from langchain_community.vectorstores.redis import Redis\n",
    "\n",
    "import os, openai, requests, json, zeep, datetime, pandas as pd\n",
    "from requests.auth import HTTPBasicAuth\n",
    "from dotenv import load_dotenv, find_dotenv\n",
    "from zeep.wsse.username import UsernameToken\n",
    "\n",
    "_ = load_dotenv(find_dotenv()) # read local .env file\n",
    "openai.api_key  = os.getenv('OPENAI_API_KEY')\n",
    "#model = \"gpt-4-1106-preview\"\n",
    "model = \"gpt-3.5-turbo\"\n",
    "\n",
    "embeddings = OpenAIEmbeddings()\n",
    "\n",
    "TENANT = 'wdmarketdesk_dpt1'\n",
    "WD_USER_ID = os.getenv('WD_USER_ID')\n",
    "WD_PWD = os.getenv('WD_PWD')\n",
    "WD_Worker_URL = \"https://impl-services1.wd12.myworkday.com/ccx/service/customreport2/wdmarketdesk_dpt1/xjin-impl/Worker_Data_2?format=json\"\n",
    "WD_Absence_URL = \"https://impl-services1.wd12.myworkday.com/ccx/service/customreport2/wdmarketdesk_dpt1/xjin-impl/Worker_Absence_Data?format=json\"\n",
    "WD_COMP_URL = \"https://impl-services1.wd12.myworkday.com/ccx/service/customreport2/wdmarketdesk_dpt1/xjin-impl/Worker_Comp_Data?format=json\"\n",
    "WD_STAFFING_WSDL_URL = \"https://impl-services1.wd12.myworkday.com/ccx/service/wdmarketdesk_dpt1/Staffing/v41.1?wsdl\"\n",
    "WD_HR_WSDL_URL = \"https://impl-services1.wd12.myworkday.com/ccx/service/wdmarketdesk_dpt1/Human_Resources/v42.0?wsdl\"\n",
    "\n",
    "basicAuth = HTTPBasicAuth(WD_USER_ID, WD_PWD)\n",
    "#wd_hr_client = zeep.Client(WD_HR_WSDL_URL, wsse=UsernameToken(WD_USER_ID + '@' + TENANT, WD_PWD)) \n",
    "#wd_staffing_client = zeep.Client(WD_STAFFING_WSDL_URL, wsse=UsernameToken(WD_USER_ID + '@' + TENANT, WD_PWD))"
   ]
  },
  {
   "cell_type": "code",
   "execution_count": 131,
   "metadata": {},
   "outputs": [
    {
     "data": {
      "text/plain": [
       "True"
      ]
     },
     "execution_count": 131,
     "metadata": {},
     "output_type": "execute_result"
    }
   ],
   "source": [
    "#rds.drop_index('worker_hr', delete_documents=True)"
   ]
  },
  {
   "cell_type": "code",
   "execution_count": 132,
   "metadata": {},
   "outputs": [],
   "source": [
    "def get_worker_data_raas():\n",
    "    response = requests.get(WD_Worker_URL, auth = basicAuth)\n",
    "    responseJson = json.dumps(json.loads(response.content))\n",
    "    \n",
    "    return response #responseJson"
   ]
  },
  {
   "cell_type": "code",
   "execution_count": 133,
   "metadata": {},
   "outputs": [
    {
     "name": "stdout",
     "output_type": "stream",
     "text": [
      "Initializing with Worker data in Redis\n"
     ]
    }
   ],
   "source": [
    "\"\"\"Initializes with all of worker data. If any information is not found, \\\n",
    "please use this tool as the default tool to look for the data needed. \\\n",
    "Do not try to get the same data more than 2 times.\n",
    "\"\"\"\n",
    "print(\"Initializing with Worker data in Redis\")\n",
    "worker_json = get_worker_data_raas()\n",
    "#worker_df = pd.DataFrame(worker_json)\n",
    "\n",
    "#print(f\"Worker DF: {worker_df}\")"
   ]
  },
  {
   "cell_type": "code",
   "execution_count": 134,
   "metadata": {},
   "outputs": [
    {
     "name": "stdout",
     "output_type": "stream",
     "text": [
      "{'Employee_Type': 'Regular', 'country': 'United States of America', 'city': 'San Francisco', 'Team_Members': 'Robert Hsing; Pedro Santiago; Tammy Calhoun; Henry Lynch; Logan McNeil; Alex Garcia', 'Cost_Center': '41600 HR Services', 'Address_-_Formatted_Line_1': '42 Laurel Street', 'Employee_ID': '21001', 'Employee_Legal_Full_Name': 'Logan McNeil', 'State_ISO_Code': 'CA', 'Manager_Name': 'Joy Banks', 'businessTitle': 'Vice President, Human Resources', 'FTE': '1', 'Company_Name': 'Global Modern Services, Inc. (USA)', 'Job_Profile': 'Vice President, Human Resources', 'Age': '52', 'Time_Type': 'Full time'}\n",
      "488\n",
      "Employee_Type is Regular, country is United States of America, city is San Francisco, Team_Members is Robert Hsing; Pedro Santiago; Tammy Calhoun; Henry Lynch; Logan McNeil; Alex Garcia, Cost_Center is 41600 HR Services, Address_-_Formatted_Line_1 is 42 Laurel Street, Employee_ID is 21001, Employee_Legal_Full_Name is Logan McNeil, State_ISO_Code is CA, Manager_Name is Joy Banks, businessTitle is Vice President, Human Resources, FTE is 1, Company_Name is Global Modern Services, Inc. (USA), Job_Profile is Vice President, Human Resources, Age is 52, Time_Type is Full time, Employee_Preferred_Full_Name is nan\n",
      "<class 'pandas.core.series.Series'>\n"
     ]
    }
   ],
   "source": [
    "worker_data = json.loads(worker_json.content)\n",
    "worker_df = pd.DataFrame(worker_data['Report_Entry'])\n",
    "\n",
    "print(worker_data['Report_Entry'][0])\n",
    "print(len(worker_data['Report_Entry']))\n",
    "\n",
    "worker_content = worker_df.apply(lambda row: ', '.join([f'{k} is {v}' for k, v in row.map(str).items()]), axis=1).transform(''.join)\n",
    "print(worker_content[0])\n",
    "print(type(worker_content))"
   ]
  },
  {
   "cell_type": "code",
   "execution_count": 135,
   "metadata": {},
   "outputs": [],
   "source": [
    "rds = Redis.from_texts(\n",
    "    worker_content,\n",
    "    embeddings,\n",
    "    metadatas=worker_data['Report_Entry'],\n",
    "    redis_url=\"redis://redis-10042.c280.us-central1-2.gce.cloud.redislabs.com:10042\",\n",
    "    password=\"1iI48215k0GAEC3gzmpfPrXD2UDXYOYN\",\n",
    "    index_name=\"worker_hr\"\n",
    ")"
   ]
  },
  {
   "cell_type": "code",
   "execution_count": 136,
   "metadata": {},
   "outputs": [],
   "source": [
    "rds.write_schema(\"worker_hr.yaml\")"
   ]
  },
  {
   "cell_type": "markdown",
   "metadata": {},
   "source": [
    "### Load Existing Worker HR Data"
   ]
  },
  {
   "cell_type": "code",
   "execution_count": 141,
   "metadata": {},
   "outputs": [],
   "source": [
    "rds = Redis.from_existing_index(\n",
    "    embeddings,\n",
    "    index_name=\"worker_hr\",\n",
    "    redis_url=\"redis://redis-10042.c280.us-central1-2.gce.cloud.redislabs.com:10042\",\n",
    "    password=\"1iI48215k0GAEC3gzmpfPrXD2UDXYOYN\",\n",
    "    schema=\"worker_hr.yaml\",\n",
    ")"
   ]
  },
  {
   "cell_type": "code",
   "execution_count": 137,
   "metadata": {},
   "outputs": [
    {
     "name": "stdout",
     "output_type": "stream",
     "text": [
      "21001\n",
      "21145\n",
      "21519\n"
     ]
    }
   ],
   "source": [
    "search_term = \"41600 HR Services\"\n",
    "results = rds.similarity_search(search_term, k=3)\n",
    "for result in results:\n",
    "    print(result.metadata['Employee_ID'])\n"
   ]
  },
  {
   "cell_type": "code",
   "execution_count": 125,
   "metadata": {},
   "outputs": [
    {
     "name": "stdout",
     "output_type": "stream",
     "text": [
      "Model: 21001 --- Score: 0.1894\n",
      "Model: 21145 --- Score: 0.1908\n",
      "Model: 21519 --- Score: 0.1913\n",
      "Model: 21148 --- Score: 0.198\n",
      "Model: 21143 --- Score: 0.2006\n"
     ]
    }
   ],
   "source": [
    "results = rds.similarity_search_with_score(search_term, k=5, distance_threshold=0.30)\n",
    "for result in results:\n",
    "    print(f\"Model: {result[0].metadata['Employee_ID']} --- Score: {result[1]}\")"
   ]
  },
  {
   "cell_type": "code",
   "execution_count": 126,
   "metadata": {},
   "outputs": [
    {
     "name": "stdout",
     "output_type": "stream",
     "text": [
      "Model: 21072 --- Score: 0.2104\n"
     ]
    }
   ],
   "source": [
    "from langchain.vectorstores.redis import RedisText, RedisNum, RedisTag\n",
    "\n",
    "query = \"what is the employee id of Alexooo Man\"\n",
    "is_emp_id = RedisNum(\"Employee_ID\") == 21072\n",
    "results = rds.similarity_search_with_score(\"\", k=3, filter=is_emp_id if is_emp_id!=0 else None)\n",
    "for result in results:\n",
    "    print(f\"Model: {result[0].metadata['Employee_ID']} --- Score: {result[1]}\")"
   ]
  },
  {
   "cell_type": "code",
   "execution_count": 142,
   "metadata": {},
   "outputs": [
    {
     "name": "stdout",
     "output_type": "stream",
     "text": [
      "21072\n"
     ]
    }
   ],
   "source": [
    "employee_id = RedisNum(\"Employee_ID\") == 21072\n",
    "retriever = rds.as_retriever(search_type=\"similarity\", \n",
    "                             search_kwargs={\"k\": 4, \"filter\": employee_id if employee_id!=0 else None})\n",
    "docs = retriever.get_relevant_documents(\"\")\n",
    "for doc in docs:\n",
    "    print(doc.metadata['Employee_ID'])"
   ]
  }
 ],
 "metadata": {
  "kernelspec": {
   "display_name": "lc-agent-2",
   "language": "python",
   "name": "python3"
  },
  "language_info": {
   "codemirror_mode": {
    "name": "ipython",
    "version": 3
   },
   "file_extension": ".py",
   "mimetype": "text/x-python",
   "name": "python",
   "nbconvert_exporter": "python",
   "pygments_lexer": "ipython3",
   "version": "3.10.11"
  }
 },
 "nbformat": 4,
 "nbformat_minor": 2
}
