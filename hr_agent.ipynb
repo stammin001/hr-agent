{
 "cells": [
  {
   "cell_type": "code",
   "execution_count": 29,
   "metadata": {},
   "outputs": [],
   "source": [
    "import streamlit as st\n",
    "\n",
    "from langchain.document_loaders import RecursiveUrlLoader, TextLoader, JSONLoader, PyPDFLoader\n",
    "from langchain.document_transformers import Html2TextTransformer\n",
    "from langchain.docstore.document import Document\n",
    "from langchain.embeddings import OpenAIEmbeddings\n",
    "from langchain.text_splitter import RecursiveCharacterTextSplitter, CharacterTextSplitter\n",
    "from langchain.vectorstores.faiss import FAISS\n",
    "from langchain.vectorstores import Chroma\n",
    "from langchain.callbacks import StreamlitCallbackHandler\n",
    "from langchain.tools import tool\n",
    "from langchain.tools.json.tool import JsonSpec\n",
    "from langchain.agents import OpenAIFunctionsAgent, AgentExecutor, load_tools\n",
    "#from langchain_experimental.tools.python.tool import PythonREPLTool\n",
    "from langchain.agents.agent_toolkits import create_retriever_tool, JsonToolkit\n",
    "from langchain.agents.openai_functions_agent.agent_token_buffer_memory import (AgentTokenBufferMemory,)\n",
    "from langchain.chat_models import ChatOpenAI\n",
    "from langchain.schema import SystemMessage, AIMessage, HumanMessage\n",
    "from langchain.prompts import MessagesPlaceholder, ChatPromptTemplate\n",
    "from langsmith import Client\n",
    "from langchain_community.vectorstores.redis import Redis\n",
    "\n",
    "import os, openai, requests, json, zeep, datetime, pandas as pd\n",
    "from requests.auth import HTTPBasicAuth\n",
    "from dotenv import load_dotenv, find_dotenv\n",
    "from zeep.wsse.username import UsernameToken\n",
    "\n",
    "_ = load_dotenv(find_dotenv()) # read local .env file\n",
    "openai.api_key  = os.getenv('OPENAI_API_KEY')\n",
    "#model = \"gpt-4-1106-preview\"\n",
    "model = \"gpt-3.5-turbo\"\n",
    "\n",
    "embeddings = OpenAIEmbeddings()\n",
    "chat = ChatOpenAI(temperature=0.0, model=model)\n",
    "\n",
    "TENANT = 'wdmarketdesk_dpt1'\n",
    "WD_USER_ID = os.getenv('WD_USER_ID')\n",
    "WD_PWD = os.getenv('WD_PWD')\n",
    "WD_Worker_URL = \"https://impl-services1.wd12.myworkday.com/ccx/service/customreport2/wdmarketdesk_dpt1/xjin-impl/Worker_Data_2?format=json\"\n",
    "WD_Absence_URL = \"https://impl-services1.wd12.myworkday.com/ccx/service/customreport2/wdmarketdesk_dpt1/xjin-impl/Worker_Absence_Data?format=json\"\n",
    "WD_COMP_URL = \"https://impl-services1.wd12.myworkday.com/ccx/service/customreport2/wdmarketdesk_dpt1/xjin-impl/Worker_Comp_Data?format=json\"\n",
    "WD_STAFFING_WSDL_URL = \"https://impl-services1.wd12.myworkday.com/ccx/service/wdmarketdesk_dpt1/Staffing/v41.1?wsdl\"\n",
    "WD_HR_WSDL_URL = \"https://impl-services1.wd12.myworkday.com/ccx/service/wdmarketdesk_dpt1/Human_Resources/v42.0?wsdl\"\n",
    "\n",
    "basicAuth = HTTPBasicAuth(WD_USER_ID, WD_PWD)\n",
    "#wd_hr_client = zeep.Client(WD_HR_WSDL_URL, wsse=UsernameToken(WD_USER_ID + '@' + TENANT, WD_PWD)) \n",
    "#wd_staffing_client = zeep.Client(WD_STAFFING_WSDL_URL, wsse=UsernameToken(WD_USER_ID + '@' + TENANT, WD_PWD))"
   ]
  },
  {
   "cell_type": "code",
   "execution_count": 59,
   "metadata": {},
   "outputs": [
    {
     "data": {
      "text/plain": [
       "True"
      ]
     },
     "execution_count": 59,
     "metadata": {},
     "output_type": "execute_result"
    }
   ],
   "source": [
    "#rds.drop_index('worker_hr', delete_documents=True)\n",
    "#rds_policies.drop_index('hr_policies', delete_documents=True)\n",
    "\n",
    "#print(chat)"
   ]
  },
  {
   "cell_type": "code",
   "execution_count": 60,
   "metadata": {},
   "outputs": [],
   "source": [
    "def get_worker_data_raas():\n",
    "    response = requests.get(WD_Worker_URL, auth = basicAuth)\n",
    "    responseJson = json.dumps(json.loads(response.content))\n",
    "    \n",
    "    return response #responseJson"
   ]
  },
  {
   "cell_type": "code",
   "execution_count": 61,
   "metadata": {},
   "outputs": [
    {
     "name": "stdout",
     "output_type": "stream",
     "text": [
      "Initializing with Worker data in Redis\n"
     ]
    }
   ],
   "source": [
    "\"\"\"Initializes with all of worker data. If any information is not found, \\\n",
    "please use this tool as the default tool to look for the data needed. \\\n",
    "Do not try to get the same data more than 2 times.\n",
    "\"\"\"\n",
    "print(\"Initializing with Worker data in Redis\")\n",
    "worker_json = get_worker_data_raas()\n",
    "#worker_df = pd.DataFrame(worker_json)\n",
    "\n",
    "#print(f\"Worker DF: {worker_df}\")"
   ]
  },
  {
   "cell_type": "code",
   "execution_count": 62,
   "metadata": {},
   "outputs": [
    {
     "name": "stdout",
     "output_type": "stream",
     "text": [
      "{'Employee_Type': 'Regular', 'country': 'United States of America', 'city': 'San Francisco', 'Team_Members': 'Robert Hsing; Pedro Santiago; Tammy Calhoun; Henry Lynch; Logan McNeil; Alex Garcia', 'Cost_Center': '41600 HR Services', 'Address_-_Formatted_Line_1': '42 Laurel Street', 'Employee_ID': '21001', 'Employee_Legal_Full_Name': 'Logan McNeil', 'State_ISO_Code': 'CA', 'Manager_Name': 'Joy Banks', 'businessTitle': 'Vice President, Human Resources', 'FTE': '1', 'Company_Name': 'Global Modern Services, Inc. (USA)', 'Job_Profile': 'Vice President, Human Resources', 'Age': '52', 'Time_Type': 'Full time'}\n",
      "501\n",
      "Employee_Type is Regular, country is United States of America, city is San Francisco, Team_Members is Robert Hsing; Pedro Santiago; Tammy Calhoun; Henry Lynch; Logan McNeil; Alex Garcia, Cost_Center is 41600 HR Services, Address_-_Formatted_Line_1 is 42 Laurel Street, Employee_ID is 21001, Employee_Legal_Full_Name is Logan McNeil, State_ISO_Code is CA, Manager_Name is Joy Banks, businessTitle is Vice President, Human Resources, FTE is 1, Company_Name is Global Modern Services, Inc. (USA), Job_Profile is Vice President, Human Resources, Age is 52, Time_Type is Full time, Employee_Preferred_Full_Name is nan\n",
      "<class 'pandas.core.series.Series'>\n"
     ]
    }
   ],
   "source": [
    "worker_data = json.loads(worker_json.content)\n",
    "worker_df = pd.DataFrame(worker_data['Report_Entry'])\n",
    "\n",
    "print(worker_data['Report_Entry'][0])\n",
    "print(len(worker_data['Report_Entry']))\n",
    "\n",
    "worker_content = worker_df.apply(lambda row: ', '.join([f'{k} is {v}' for k, v in row.map(str).items()]), axis=1).transform(''.join)\n",
    "print(worker_content[0])\n",
    "print(type(worker_content))"
   ]
  },
  {
   "cell_type": "code",
   "execution_count": 63,
   "metadata": {},
   "outputs": [],
   "source": [
    "rds = Redis.from_texts(\n",
    "    worker_content,\n",
    "    embeddings,\n",
    "    metadatas=worker_data['Report_Entry'],\n",
    "    redis_url=\"redis://redis-10042.c280.us-central1-2.gce.cloud.redislabs.com:10042\",\n",
    "    password=\"1iI48215k0GAEC3gzmpfPrXD2UDXYOYN\",\n",
    "    index_name=\"worker_hr\"\n",
    ")"
   ]
  },
  {
   "cell_type": "code",
   "execution_count": 64,
   "metadata": {},
   "outputs": [],
   "source": [
    "rds.write_schema(\"worker_hr.yaml\")"
   ]
  },
  {
   "cell_type": "markdown",
   "metadata": {},
   "source": [
    "### Load New HR Policies"
   ]
  },
  {
   "cell_type": "code",
   "execution_count": 65,
   "metadata": {},
   "outputs": [],
   "source": [
    "loader = PyPDFLoader(\"docs/HR_Policies.pdf\")\n",
    "pages = loader.load()"
   ]
  },
  {
   "cell_type": "code",
   "execution_count": 66,
   "metadata": {},
   "outputs": [
    {
     "name": "stdout",
     "output_type": "stream",
     "text": [
      "{'source': 'docs/HR_Policies.pdf', 'page': 126}\n",
      "{'source': 'docs/HR_Policies.pdf', 'page': 127}\n",
      "{'source': 'docs/HR_Policies.pdf', 'page': 128}\n",
      "{'source': 'docs/HR_Policies.pdf', 'page': 129}\n",
      "{'source': 'docs/HR_Policies.pdf', 'page': 130}\n",
      "{'source': 'docs/HR_Policies.pdf', 'page': 131}\n",
      "{'source': 'docs/HR_Policies.pdf', 'page': 132}\n",
      "{'source': 'docs/HR_Policies.pdf', 'page': 133}\n",
      "{'source': 'docs/HR_Policies.pdf', 'page': 134}\n",
      "{'source': 'docs/HR_Policies.pdf', 'page': 135}\n"
     ]
    }
   ],
   "source": [
    "for page in pages[len(pages) - 10:len(pages)]:\n",
    "    print(page.metadata)\n",
    "\n",
    "policies_content = []\n",
    "policies_metadata = []\n",
    "for page in pages:\n",
    "    policies_content.append(page.page_content)\n",
    "    policies_metadata.append(page.metadata)"
   ]
  },
  {
   "cell_type": "code",
   "execution_count": 67,
   "metadata": {},
   "outputs": [],
   "source": [
    "rds_policies = Redis.from_texts(\n",
    "    policies_content,\n",
    "    embeddings,\n",
    "    metadatas=policies_metadata,\n",
    "    redis_url=\"redis://redis-10042.c280.us-central1-2.gce.cloud.redislabs.com:10042\",\n",
    "    password=\"1iI48215k0GAEC3gzmpfPrXD2UDXYOYN\",\n",
    "    index_name=\"hr_policies\"\n",
    ")"
   ]
  },
  {
   "cell_type": "code",
   "execution_count": 68,
   "metadata": {},
   "outputs": [],
   "source": [
    "rds_policies.write_schema(\"hr_policies.yaml\")"
   ]
  },
  {
   "cell_type": "markdown",
   "metadata": {},
   "source": [
    "### Load Existing Worker HR Data"
   ]
  },
  {
   "cell_type": "code",
   "execution_count": 69,
   "metadata": {},
   "outputs": [],
   "source": [
    "rds = Redis.from_existing_index(\n",
    "    embeddings,\n",
    "    index_name=\"worker_hr\",\n",
    "    redis_url=\"redis://redis-10042.c280.us-central1-2.gce.cloud.redislabs.com:10042\",\n",
    "    password=\"1iI48215k0GAEC3gzmpfPrXD2UDXYOYN\",\n",
    "    schema=\"worker_hr.yaml\",\n",
    ")"
   ]
  },
  {
   "cell_type": "markdown",
   "metadata": {},
   "source": [
    "### Load Existing HR Policies"
   ]
  },
  {
   "cell_type": "code",
   "execution_count": 100,
   "metadata": {},
   "outputs": [],
   "source": [
    "rds_policies = Redis.from_existing_index(\n",
    "    embeddings,\n",
    "    index_name=\"hr_policies\",\n",
    "    redis_url=\"redis://redis-10042.c280.us-central1-2.gce.cloud.redislabs.com:10042\",\n",
    "    password=\"1iI48215k0GAEC3gzmpfPrXD2UDXYOYN\",\n",
    "    schema=\"hr_policies.yaml\",\n",
    ")"
   ]
  },
  {
   "cell_type": "code",
   "execution_count": 4,
   "metadata": {},
   "outputs": [
    {
     "name": "stdout",
     "output_type": "stream",
     "text": [
      "21001\n",
      "21145\n",
      "21519\n"
     ]
    }
   ],
   "source": [
    "search_term = \"41600 HR Services\"\n",
    "results = rds.similarity_search(search_term, k=3)\n",
    "for result in results:\n",
    "    print(result.metadata['Employee_ID'])\n"
   ]
  },
  {
   "cell_type": "code",
   "execution_count": 5,
   "metadata": {},
   "outputs": [
    {
     "name": "stdout",
     "output_type": "stream",
     "text": [
      "Model: 21001 --- Score: 0.1892\n",
      "Model: 21145 --- Score: 0.1893\n",
      "Model: 21519 --- Score: 0.1924\n",
      "Model: 21143 --- Score: 0.194\n",
      "Model: 21144 --- Score: 0.1969\n"
     ]
    }
   ],
   "source": [
    "results = rds.similarity_search_with_score(search_term, k=5, distance_threshold=0.30)\n",
    "for result in results:\n",
    "    print(f\"Model: {result[0].metadata['Employee_ID']} --- Score: {result[1]}\")"
   ]
  },
  {
   "cell_type": "code",
   "execution_count": null,
   "metadata": {},
   "outputs": [],
   "source": [
    "from langchain.vectorstores.redis import RedisText, RedisNum, RedisTag\n",
    "\n",
    "context = \"\"\n",
    "query = \"what is the address of Charles Bradley\"\n",
    "is_emp_id = RedisNum(\"Employee_ID\") == 21072\n",
    "results = rds.similarity_search_with_score(query, k=3) #, filter=is_emp_id if is_emp_id!=0 else None)\n",
    "for result in results:\n",
    "    print(f\"Model: {result[0].metadata['Employee_ID']} --- Score: {result[1]} --- Type: {type(result[0])}\")\n",
    "    print(f\"Content: {result[0].page_content}\")\n",
    "    context += result[0].page_content"
   ]
  },
  {
   "cell_type": "code",
   "execution_count": null,
   "metadata": {},
   "outputs": [],
   "source": [
    "employee_id = RedisNum(\"Employee_ID\") == 21072\n",
    "retriever = rds.as_retriever(search_type=\"similarity\", \n",
    "                             search_kwargs={\"k\": 4, \"filter\": employee_id if employee_id!=0 else None})\n",
    "docs = retriever.get_relevant_documents(\"\")\n",
    "for doc in docs:\n",
    "    print(doc.metadata['Employee_ID'])"
   ]
  },
  {
   "cell_type": "markdown",
   "metadata": {},
   "source": [
    "### Citation    "
   ]
  },
  {
   "cell_type": "code",
   "execution_count": 28,
   "metadata": {},
   "outputs": [
    {
     "name": "stdout",
     "output_type": "stream",
     "text": [
      "The address of Charles Bradley is 48 Harbor Drive, Greenwich, CT, United States of America. [Employee_ID: 21072]\n"
     ]
    }
   ],
   "source": [
    "template_string = \"\"\"\n",
    "Consider the information below: \\\n",
    "{context}\n",
    "Provide answer to the {query}. Be very specific and relevant. \\\n",
    "For each answer, provide source in brackets based on what is in {sources}. \\\n",
    "\"\"\"\n",
    "\n",
    "prompt_template = ChatPromptTemplate.from_template(template_string)\n",
    "customer_messages = prompt_template.format_messages(context=context, \n",
    "                                                    query=query, sources={', '.join([result[0].metadata[\"Employee_ID\"] for result in results])})\n",
    "\n",
    "customer_response = chat(customer_messages)\n",
    "print(customer_response.content)"
   ]
  },
  {
   "cell_type": "markdown",
   "metadata": {},
   "source": [
    "### Search Policies with Citation"
   ]
  },
  {
   "cell_type": "code",
   "execution_count": 101,
   "metadata": {},
   "outputs": [],
   "source": [
    "context = \"\"\n",
    "#query = \"what are the leaves\"\n",
    "#query = \"how can we appeal to the grievance decision\"\n",
    "query = \"what are resignation policies\"\n",
    "results_policies = rds_policies.similarity_search_with_score(query, k=3)\n",
    "for result in results_policies:\n",
    "    #print(result[0].metadata[\"source\"])\n",
    "    #print(result[0].page_content)\n",
    "    context += result[0].page_content"
   ]
  },
  {
   "cell_type": "code",
   "execution_count": 102,
   "metadata": {},
   "outputs": [
    {
     "name": "stdout",
     "output_type": "stream",
     "text": [
      "The resignation policies at GMS are as follows:\n",
      "\n",
      "1. Employees are required to give at least one month advance notice in writing when resigning from their employment at GMS. (Source: GMS Policy, Chapter 11, Section 11.4)\n",
      "\n",
      "2. The concerned manager should confirm the receipt of resignation in writing to the employee. (Source: GMS Policy, Chapter 11, Section 11.4)\n",
      "\n",
      "3. Upon receipt of the resignation notice, the concerned Departmental Head will forward the same to the HR Department and discuss the resignation case with them to decide the future action, such as acceptance, non-acceptance, renegotiation, or termination with immediate effect with notice pay. (Source: GMS Policy, Chapter 11, Section 11.4)\n",
      "\n",
      "4. The Departmental Head is responsible for handling/taking over schedule, nomination of successor, or forwarding recruitment requisition for provision of replacement. (Source: GMS Policy, Chapter 11, Section 11.4)\n",
      "\n",
      "5. If an employee wishes to revoke the notice of resignation, the revocation will be treated on a case-by-case basis. The relevant Department Head, in consultation with the HR Department, will decide whether to accept or reject the application. Acceptance of the application does not guarantee reinstatement on the same position. (Source: GMS Policy, Chapter 11, Section 11.4)\n",
      "\n",
      "Note: The source for all the information provided is the GMS Policy, specifically Chapter 11, Sections 11.4.\n"
     ]
    }
   ],
   "source": [
    "template_string = \"\"\"\n",
    "Consider the information below: \\\n",
    "{context}\n",
    "Provide answer to the {query}. Be very specific and relevant. \\\n",
    "For each answer, provide source in brackets. \\\n",
    "Do not repeat the same source information in the same line.\n",
    "In the final response, always replace word KPPRA with GMS\n",
    "\"\"\"\n",
    "\n",
    "prompt_template = ChatPromptTemplate.from_template(template_string)\n",
    "customer_messages = prompt_template.format_messages(context=context, \n",
    "                                                    query=query, \n",
    "                                                    sources=\"\") #{', '.join([result[0].metadata[\"source\"]\n",
    "                                                                 #       for result in results_policies])})\n",
    "\n",
    "customer_response = chat(customer_messages)\n",
    "print(customer_response.content)"
   ]
  }
 ],
 "metadata": {
  "kernelspec": {
   "display_name": "lc-agent-2",
   "language": "python",
   "name": "python3"
  },
  "language_info": {
   "codemirror_mode": {
    "name": "ipython",
    "version": 3
   },
   "file_extension": ".py",
   "mimetype": "text/x-python",
   "name": "python",
   "nbconvert_exporter": "python",
   "pygments_lexer": "ipython3",
   "version": "3.10.11"
  }
 },
 "nbformat": 4,
 "nbformat_minor": 2
}
