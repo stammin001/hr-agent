{
 "cells": [
  {
   "cell_type": "code",
   "execution_count": 1,
   "id": "2d665620-d77c-416f-8f14-4f913d28c535",
   "metadata": {
    "tags": []
   },
   "outputs": [
    {
     "name": "stderr",
     "output_type": "stream",
     "text": [
      "c:\\Users\\sures\\anaconda3\\envs\\lc-agent-2\\lib\\site-packages\\langchain\\llms\\openai.py:216: UserWarning: You are trying to use a chat model. This way of initializing it is no longer supported. Instead, please use: `from langchain.chat_models import ChatOpenAI`\n",
      "  warnings.warn(\n",
      "c:\\Users\\sures\\anaconda3\\envs\\lc-agent-2\\lib\\site-packages\\langchain\\llms\\openai.py:811: UserWarning: You are trying to use a chat model. This way of initializing it is no longer supported. Instead, please use: `from langchain.chat_models import ChatOpenAI`\n",
      "  warnings.warn(\n"
     ]
    }
   ],
   "source": [
    "import os, openai, requests, json, zeep\n",
    "from requests.auth import HTTPBasicAuth\n",
    "from dotenv import load_dotenv, find_dotenv\n",
    "from requests.auth import HTTPBasicAuth\n",
    "from zeep import Client \n",
    "from zeep.wsse.username import UsernameToken\n",
    "from pydantic import BaseModel, Field\n",
    "from langchain.output_parsers import PydanticOutputParser\n",
    "from langchain.prompts import PromptTemplate\n",
    "from langchain.chat_models import ChatOpenAI\n",
    "from langchain.llms import OpenAI\n",
    "from schema.Staffing import *\n",
    "\n",
    "_ = load_dotenv(find_dotenv()) # read local .env file\n",
    "openai.api_key = os.getenv('OPENAI_API_KEY')\n",
    "\n",
    "TENANT = 'wdmarketdesk_dpt1'\n",
    "WD_USER_ID = os.getenv('WD_USER_ID')\n",
    "WD_PWD = os.getenv('WD_PWD')\n",
    "WD_Absence_URL = \"https://impl-services1.wd12.myworkday.com/ccx/service/customreport2/wdmarketdesk_dpt1/xjin-impl/Worker_Absence_Data?format=json\"\n",
    "WD_COMP_URL = \"https://impl-services1.wd12.myworkday.com/ccx/service/customreport2/wdmarketdesk_dpt1/xjin-impl/Worker_Comp_Data?format=json\"\n",
    "HR_URL = \"https://impl-services1.wd12.myworkday.com/ccx/service/wdmarketdesk_dpt1/Human_Resources/v42.0?wsdl\"\n",
    "STAFFING_URL = \"https://impl-services1.wd12.myworkday.com/ccx/service/wdmarketdesk_dpt1/Staffing/v41.1?wsdl\"\n",
    "\n",
    "basicAuth = HTTPBasicAuth(WD_USER_ID, WD_PWD)\n",
    "\n",
    "#HR_Client = Client(HR_URL, wsse=UsernameToken(WD_USER_ID + '@' + TENANT, WD_PWD)) \n",
    "#Staffing_Client = Client(STAFFING_URL, wsse=UsernameToken(WD_USER_ID + '@' + TENANT, WD_PWD))\n",
    "\n",
    "model_name = \"gpt-4-1106-preview\"\n",
    "temperature = 0.0\n",
    "model = OpenAI(model_name=model_name, temperature=temperature)\n"
   ]
  },
  {
   "cell_type": "code",
   "execution_count": 19,
   "id": "20f3114e-61a5-4f8d-ae68-1f9af81a33d2",
   "metadata": {
    "tags": []
   },
   "outputs": [],
   "source": [
    "#print(BusinessProcessParametersType.schema_json(indent=2))\n",
    "\n",
    "parser = PydanticOutputParser(pydantic_object=BusinessProcessParametersType)\n",
    "\n",
    "input_query = \"Generate output for business process parameters using defaults as True. Consider 'testing' for comments\"\n",
    "\n",
    "prompt = PromptTemplate(\n",
    "    template=\"Answer the user query. Note that Comment_Data, Worker_Reference, ID type is Employee_ID. \\\n",
    "        Please do not output any text before or after JSON structure \\\n",
    "        Do not assume any values for any fields \\\n",
    "        \\n{format_instructions}\\n{query}\\n\",\n",
    "    input_variables=[\"query\"],\n",
    "    partial_variables={\"format_instructions\": parser.get_format_instructions() + \n",
    "        \"Do not prefix or suffix the final output with special characters or JSON keys\"},\n",
    ")\n",
    "\n",
    "_input = prompt.format_prompt(query=input_query)\n",
    "\n",
    "#print(parser.get_format_instructions())\n",
    "output = model(_input.to_string())\n"
   ]
  },
  {
   "cell_type": "code",
   "execution_count": 21,
   "metadata": {},
   "outputs": [
    {
     "name": "stdout",
     "output_type": "stream",
     "text": [
      "{\n",
      "  \"Auto_Complete\": true,\n",
      "  \"Run_Now\": true,\n",
      "  \"Discard_On_Exit_Validation_Error\": true,\n",
      "  \"Comment_Data\": {\n",
      "    \"Comment\": \"testing\",\n",
      "    \"Worker_Reference\": {\n",
      "      \"ID\": [\n",
      "        {\n",
      "          \"_value_1\": \"Employee_ID\",\n",
      "          \"type\": \"Employee_ID\"\n",
      "        }\n",
      "      ],\n",
      "      \"Descriptor\": \"Employee_ID\"\n",
      "    }\n",
      "  },\n",
      "  \"Business_Process_Attachment_Data\": []\n",
      "}\n"
     ]
    }
   ],
   "source": [
    "\n",
    "#parser.parse(output)\n",
    "\n",
    "#print(output.strip(\"`\").strip('json'))\n",
    "\n",
    "print(output.replace(\"Value\", \"_value_1\"))\n",
    "\n",
    "#print(parser.get_format_instructions())"
   ]
  },
  {
   "cell_type": "code",
   "execution_count": 4,
   "metadata": {},
   "outputs": [],
   "source": [
    "parser = PydanticOutputParser(pydantic_object=AddAdditionalJobDataType)\n",
    "\n",
    "input_query = \"Generate output for Additional Job. Requisition is 'Test-Req'\"\n",
    "\n",
    "prompt = PromptTemplate(\n",
    "    template=\"Answer the user query. Note that Employee_Reference ID type is Employee_ID. \\\n",
    "        Organization_Reference ID type is Organization_Reference_ID \\\n",
    "        \\n{format_instructions}\\n{query}\\n\",\n",
    "    input_variables=[\"query\"],\n",
    "    partial_variables={\"format_instructions\": parser.get_format_instructions()},\n",
    ")\n",
    "\n",
    "_input = prompt.format_prompt(query=input_query)\n",
    "\n",
    "#print(parser.get_format_instructions())\n",
    "output = model(_input.to_string())\n"
   ]
  },
  {
   "cell_type": "code",
   "execution_count": 5,
   "metadata": {},
   "outputs": [
    {
     "name": "stdout",
     "output_type": "stream",
     "text": [
      "Based on the provided schema and the information that the requisition is 'Test-Req', here is a JSON instance that conforms to the schema:\n",
      "\n",
      "```json\n",
      "{\n",
      "  \"Employee_Reference\": {\n",
      "    \"ID\": [\n",
      "      {\n",
      "        \"Value\": \"12345\",\n",
      "        \"type\": \"Employee_ID\"\n",
      "      }\n",
      "    ],\n",
      "    \"Descriptor\": \"Employee for Additional Job\"\n",
      "  },\n",
      "  \"Organization_Reference\": {\n",
      "    \"ID\": [\n",
      "      {\n",
      "        \"Value\": \"67890\",\n",
      "        \"type\": \"Organization_Reference_ID\"\n",
      "      }\n",
      "    ],\n",
      "    \"Descriptor\": \"Organization for Additional Job\"\n",
      "  },\n",
      "  \"Add_Additional_Job_Event_Data\": {\n",
      "    \"Position_ID\": \"Position-123\",\n",
      "    \"Position_Details\": {\n",
      "      \"Job_Profile_Reference\": {\n",
      "        \"ID\": [\n",
      "          {\n",
      "            \"Value\": \"JobProfile-123\",\n",
      "            \"type\": \"Job_Profile_ID\"\n",
      "          }\n",
      "        ],\n",
      "        \"Descriptor\": \"Job Profile for Additional Job\"\n",
      "      },\n",
      "      \"Location_Reference\": {\n",
      "        \"ID\": [\n",
      "          {\n",
      "            \"Value\": \"Location-123\",\n",
      "            \"type\": \"Location_ID\"\n",
      "          }\n",
      "        ],\n",
      "        \"Descriptor\": \"Location for Additional Job\"\n",
      "      },\n",
      "      \"Position_Time_Type_Reference\": {\n",
      "        \"ID\": [\n",
      "          {\n",
      "            \"Value\": \"Full-Time\",\n",
      "            \"type\": \"Position_Time_Type_ID\"\n",
      "          }\n",
      "        ],\n",
      "        \"Descriptor\": \"Full-Time\"\n",
      "      },\n",
      "      \"Pay_Rate_Type_Reference\": {\n",
      "        \"ID\": [\n",
      "          {\n",
      "            \"Value\": \"Salary\",\n",
      "            \"type\": \"Pay_Rate_Type_ID\"\n",
      "          }\n",
      "        ],\n",
      "        \"Descriptor\": \"Salary\"\n",
      "      }\n",
      "    }\n",
      "  },\n",
      "  \"Job_Requisition_Reference\": {\n",
      "    \"ID\": [\n",
      "      {\n",
      "        \"Value\": \"Test-Req\",\n",
      "        \"type\": \"Job_Requisition_ID\"\n",
      "      }\n",
      "    ],\n",
      "    \"Descriptor\": \"Job Requisition for Additional Job\"\n",
      "  },\n",
      "  \"Exclude_from_Headcount\": false\n",
      "}\n",
      "```\n",
      "\n",
      "Please note that the above JSON instance is a simplified example based on the provided schema and the requisition 'Test-Req'. The actual instance may require more detailed information depending on the specific use case and data requirements. The `Employee_Reference`, `Organization_Reference`, and other references are filled with example data and should be replaced with actual values from your system.\n"
     ]
    }
   ],
   "source": [
    "\n",
    "#parser.parse(output)\n",
    "\n",
    "print(output.strip(\"`\").strip('json'))\n",
    "\n",
    "#print(output)\n",
    "\n",
    "#print(parser.get_format_instructions())"
   ]
  },
  {
   "cell_type": "code",
   "execution_count": 32,
   "metadata": {},
   "outputs": [
    {
     "data": {
      "text/plain": [
       "Plan(plan=[PlanItem(step='Step 1 description', tools='List of tools used in Step 1', data_sources='List of data sources for Step 1', sub_steps_needed='Description of sub-steps needed for Step 1')])"
      ]
     },
     "execution_count": 32,
     "metadata": {},
     "output_type": "execute_result"
    }
   ],
   "source": [
    "from langchain.output_parsers import PydanticOutputParser, CommaSeparatedListOutputParser\n",
    "from pydantic import BaseModel, Field, validator\n",
    "from typing import List, Optional\n",
    "\n",
    "class PlanItem(BaseModel):\n",
    "    step: str\n",
    "    tools: Optional[str] = []\n",
    "    data_sources: Optional[str] = []\n",
    "    sub_steps_needed: str\n",
    "\n",
    "class Plan(BaseModel):\n",
    "    plan: List[PlanItem]\n",
    "\n",
    "\n",
    "parser = PydanticOutputParser(pydantic_object=Plan)\n",
    "parser_2 = CommaSeparatedListOutputParser()\n",
    "\n",
    "input_query = \"Generate details for plan item 1\"\n",
    "input_query_2 = \"\"\n",
    "\n",
    "prompt = PromptTemplate(\n",
    "    template=\"Answer the user query.\\n{format_instructions}\\n{query}\\n\",\n",
    "    input_variables=[\"query\"],\n",
    "    partial_variables={\"format_instructions\": parser.get_format_instructions()},\n",
    ")\n",
    "\n",
    "prompt_2 = PromptTemplate(\n",
    "    template=\"Answer the user query.\\n{format_instructions}\\n{query}\\n\",\n",
    "    input_variables=[\"query\"],\n",
    "    partial_variables={\"format_instructions\": parser_2.get_format_instructions()},\n",
    "\n",
    ")\n",
    "\n",
    "_input = prompt.format_prompt(query=input_query)\n",
    "\n",
    "#print(parser.get_format_instructions())\n",
    "output = model(_input.to_string())\n",
    "\n",
    "parser.parse(output)"
   ]
  },
  {
   "cell_type": "markdown",
   "id": "affd25c9-be45-40f1-969c-ccc27e881c2c",
   "metadata": {},
   "source": [
    "## Add Additional Job"
   ]
  },
  {
   "cell_type": "code",
   "execution_count": null,
   "id": "a7c04b3d-90a4-4008-a1d9-7fd777d809ce",
   "metadata": {},
   "outputs": [],
   "source": []
  }
 ],
 "metadata": {
  "kernelspec": {
   "display_name": "Python 3 (ipykernel)",
   "language": "python",
   "name": "python3"
  },
  "language_info": {
   "codemirror_mode": {
    "name": "ipython",
    "version": 3
   },
   "file_extension": ".py",
   "mimetype": "text/x-python",
   "name": "python",
   "nbconvert_exporter": "python",
   "pygments_lexer": "ipython3",
   "version": "3.10.11"
  }
 },
 "nbformat": 4,
 "nbformat_minor": 5
}
