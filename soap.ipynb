{
 "cells": [
  {
   "cell_type": "code",
   "execution_count": 28,
   "id": "2d665620-d77c-416f-8f14-4f913d28c535",
   "metadata": {
    "tags": []
   },
   "outputs": [],
   "source": [
    "import os, openai, requests, json, zeep\n",
    "from requests.auth import HTTPBasicAuth\n",
    "from dotenv import load_dotenv, find_dotenv\n",
    "from requests.auth import HTTPBasicAuth\n",
    "from zeep import Client \n",
    "from zeep.wsse.username import UsernameToken\n",
    "\n",
    "_ = load_dotenv(find_dotenv()) # read local .env file\n",
    "openai.api_key  = os.getenv('OPENAI_API_KEY')\n",
    "\n",
    "TENANT = 'wdmarketdesk_dpt1'\n",
    "WD_USER_ID = os.getenv('WD_USER_ID')\n",
    "WD_PWD = os.getenv('WD_PWD')\n",
    "WD_Absence_URL = \"https://impl-services1.wd12.myworkday.com/ccx/service/customreport2/wdmarketdesk_dpt1/xjin-impl/Worker_Absence_Data?format=json\"\n",
    "WD_COMP_URL = \"https://impl-services1.wd12.myworkday.com/ccx/service/customreport2/wdmarketdesk_dpt1/xjin-impl/Worker_Comp_Data?format=json\"\n",
    "HR_URL = \"https://impl-services1.wd12.myworkday.com/ccx/service/wdmarketdesk_dpt1/Human_Resources/v42.0?wsdl\"\n",
    "STAFFING_URL = \"https://impl-services1.wd12.myworkday.com/ccx/service/wdmarketdesk_dpt1/Staffing/v41.1?wsdl\"\n",
    "\n",
    "basicAuth = HTTPBasicAuth(WD_USER_ID, WD_PWD)\n",
    "\n",
    "#HR_Client = Client(HR_URL, wsse=UsernameToken(WD_USER_ID + '@' + TENANT, WD_PWD)) \n",
    "#Staffing_Client = Client(STAFFING_URL, wsse=UsernameToken(WD_USER_ID + '@' + TENANT, WD_PWD)) \n"
   ]
  },
  {
   "cell_type": "code",
   "execution_count": 223,
   "id": "f6f22933-d93f-4a51-8665-b6fd68feac46",
   "metadata": {
    "tags": []
   },
   "outputs": [
    {
     "name": "stdout",
     "output_type": "stream",
     "text": [
      "<?xml version='1.0' encoding='UTF-8'?><env:Envelope xmlns:env=\"http://schemas.xmlsoap.org/soap/envelope/\"><env:Body><wd:Change_Business_Title_Response xmlns:wd=\"urn:com.workday/bsvc\" wd:version=\"v42.0\"><wd:Business_Title_Change_Event_Reference><wd:ID wd:type=\"WID\">bacec44485ea10026aaa0034be3d0000</wd:ID></wd:Business_Title_Change_Event_Reference></wd:Change_Business_Title_Response></env:Body></env:Envelope>\n",
      "<Response [200]>\n"
     ]
    }
   ],
   "source": [
    "import requests\n",
    "# SOAP request URL\n",
    "url = \"https://impl-services1.wd12.myworkday.com/ccx/service/wdmarketdesk_dpt1/Human_Resources/v42.0\"\n",
    "\n",
    "# structured XML\n",
    "payload = \"\"\"\n",
    "\n",
    "<soapenv:Envelope xmlns:soapenv=\\\"http://schemas.xmlsoap.org/soap/envelope/\\\" \n",
    "xmlns:bsvc=\\\"urn:com.workday/bsvc\\\"\n",
    "   xmlns:wsse=\\\"http://docs.oasis-open.org/wss/2004/01/oasis-200401-wss-wssecurity-secext-1.0.xsd\\\">\n",
    "   <soapenv:Header>\n",
    "      <wsse:Security soapenv:mustUnderstand=\\\"1\\\">\n",
    "            <wsse:UsernameToken>\n",
    "                <wsse:Username>xjin-impl@wdmarketdesk_dpt1</wsse:Username>\n",
    "                <wsse:Password\n",
    "                    Type=\\\"http://docs.oasis-open.org/wss/2004/01/oasis-200401-wss-username-token-profile-1.0#PasswordText\\\"\n",
    "                    >gmsWorkdayA1@</wsse:Password>\n",
    "            </wsse:UsernameToken>\n",
    "        </wsse:Security>\n",
    "   </soapenv:Header>\n",
    "   <soapenv:Body>\n",
    "      <bsvc:Change_Business_Title_Request bsvc:version=\\\"v42.0\\\">\n",
    "         <!--Optional:-->\n",
    "         <bsvc:Business_Process_Parameters>\n",
    "            <!--Optional:-->\n",
    "            <bsvc:Auto_Complete>true</bsvc:Auto_Complete>\n",
    "            <!--Optional:-->\n",
    "            <bsvc:Run_Now>true</bsvc:Run_Now>\n",
    "            <!--Optional:-->\n",
    "            <bsvc:Discard_On_Exit_Validation_Error>true</bsvc:Discard_On_Exit_Validation_Error>\n",
    "            <!--Optional:-->\n",
    "            <bsvc:Comment_Data>\n",
    "               <!--Optional:-->\n",
    "               <bsvc:Comment>Test</bsvc:Comment>\n",
    "               <!--Optional:-->\n",
    "               <bsvc:Worker_Reference bsvc:Descriptor=\\\"\\\">\n",
    "                  <!--Zero or more repetitions:-->\n",
    "                  <bsvc:ID bsvc:type=\\\"Employee_ID\\\">21082</bsvc:ID>\n",
    "               </bsvc:Worker_Reference>\n",
    "            </bsvc:Comment_Data>\n",
    "            <!--Zero or more repetitions:-->\n",
    "         </bsvc:Business_Process_Parameters>\n",
    "         <bsvc:Change_Business_Title_Business_Process_Data>\n",
    "            <bsvc:Worker_Reference bsvc:Descriptor=\\\"?\\\">\n",
    "               <!--Zero or more repetitions:-->\n",
    "               <bsvc:ID bsvc:type=\\\"Employee_ID\\\">21082</bsvc:ID>\n",
    "            </bsvc:Worker_Reference>\n",
    "            <!--Optional:-->\n",
    "            <bsvc:Change_Business_Title_Data>\n",
    "               <bsvc:Event_Effective_Date>2023-11-11Z</bsvc:Event_Effective_Date>\n",
    "               <bsvc:Proposed_Business_Title>Test_3</bsvc:Proposed_Business_Title>\n",
    "            </bsvc:Change_Business_Title_Data>\n",
    "         </bsvc:Change_Business_Title_Business_Process_Data>\n",
    "      </bsvc:Change_Business_Title_Request>\n",
    "   </soapenv:Body>\n",
    "</soapenv:Envelope>\n",
    "\n",
    "\"\"\"\n",
    "\n",
    "# POST request\n",
    "response = requests.request(\"POST\", url, data=payload)\n",
    "\n",
    "# prints the response\n",
    "print(response.text)\n",
    "print(response)\n"
   ]
  },
  {
   "cell_type": "code",
   "execution_count": 12,
   "id": "b687c6f0-f1c8-47cf-af47-bcb67af25816",
   "metadata": {
    "tags": []
   },
   "outputs": [],
   "source": [
    "#!pip install zeep"
   ]
  },
  {
   "cell_type": "code",
   "execution_count": 98,
   "id": "d9ec827b-b927-40ff-aa6b-e7897ed85aa4",
   "metadata": {
    "tags": []
   },
   "outputs": [
    {
     "name": "stdout",
     "output_type": "stream",
     "text": [
      "worker_type =  [('Descriptor', <Attribute(name='Descriptor', type=<zeep.xsd.types.builtins.String object at 0x000001D89FA10BB0>)>)]\n",
      "worker_id_type =  [('type', <Attribute(name='type', type=<zeep.xsd.dynamic_types.WorkerReferenceEnumeration object at 0x000001D89FC09C30>)>)]\n",
      "worker_ref_enum =  []\n",
      "{\n",
      "    'ID': {\n",
      "        '_value_1': '21082',\n",
      "        'type': None\n",
      "    },\n",
      "    'Descriptor': None\n",
      "}\n"
     ]
    }
   ],
   "source": [
    "\n",
    "node = HR_Client.create_message(client.service, 'Get_Workers')\n",
    "worker_type = HR_Client.get_type('ns0:WorkerObjectType')\n",
    "worker_id_type = HR_Client.get_type('ns0:WorkerObjectIDType')\n",
    "worker_ref_enum = HR_Client.get_type('ns0:WorkerReferenceEnumeration')\n",
    "\n",
    "print('worker_type = ', worker_type.attributes)\n",
    "print('worker_id_type = ', worker_id_type.attributes)\n",
    "print('worker_ref_enum = ', worker_ref_enum.attributes)\n",
    "\n",
    "worker_id = worker_id_type(type='Employee_ID')\n",
    "worker = worker_type(ID='21082')\n",
    "\n",
    "print(worker)\n",
    "#print(client.service.Get_Workers(worker))\n"
   ]
  },
  {
   "cell_type": "code",
   "execution_count": 118,
   "id": "ace1178a-eb77-46e9-a1b6-b64e089ff100",
   "metadata": {
    "tags": []
   },
   "outputs": [
    {
     "name": "stdout",
     "output_type": "stream",
     "text": [
      "WorkerObjectType({urn:com.workday/bsvc}WorkerObjectType(ID: {urn:com.workday/bsvc}WorkerObjectIDType[], Descriptor: xsd:string))\n",
      "WorkerObjectIDType({urn:com.workday/bsvc}WorkerObjectIDType(xsd:string, type: {urn:com.workday/bsvc}WorkerReferenceEnumeration))\n",
      "{\n",
      "    '_value_1': 'Employee_ID',\n",
      "    'type': None\n",
      "}\n",
      "{\n",
      "    'ID': {\n",
      "        '_value_1': '21082',\n",
      "        'type': None\n",
      "    },\n",
      "    'Descriptor': 'Test'\n",
      "}\n"
     ]
    }
   ],
   "source": [
    "node = HR_Client.create_message(client.service, 'Get_Workers')\n",
    "\n",
    "factory = HR_Client.type_factory('ns0')\n",
    "print(factory.WorkerObjectType)\n",
    "print(factory.WorkerObjectIDType)\n",
    "\n",
    "id_type = factory.WorkerObjectIDType('Employee_ID')\n",
    "worker_id = factory.WorkerObjectType(ID='21082', Descriptor='Test')\n",
    "\n",
    "print(id_type)\n",
    "print(worker_id)"
   ]
  },
  {
   "cell_type": "code",
   "execution_count": 234,
   "id": "0f578294-45d2-41d2-b5de-c36464707f85",
   "metadata": {
    "tags": []
   },
   "outputs": [],
   "source": [
    "import zeep, os \n",
    "from zeep import Client \n",
    "from zeep.wsse.username import UsernameToken\n",
    "\n",
    "TENANT = 'wdmarketdesk_dpt1'\n",
    "WD_USER_ID = os.getenv('WD_USER_ID')\n",
    "WD_PWD = os.getenv('WD_PWD')\n",
    "HR_URL = \"https://impl-services1.wd12.myworkday.com/ccx/service/wdmarketdesk_dpt1/Human_Resources/v42.0?wsdl\"\n",
    "\n",
    "HR_Client = Client(HR_URL, wsse=UsernameToken(WD_USER_ID + '@' + TENANT, WD_PWD)) \n",
    "Staffing_Client = Client(STAFFING_URL, wsse=UsernameToken(WD_USER_ID + '@' + TENANT, WD_PWD)) \n"
   ]
  },
  {
   "cell_type": "markdown",
   "id": "c5d22d64-9634-48a3-bbf7-84a93a2e44da",
   "metadata": {
    "tags": []
   },
   "source": [
    "## Get Workers"
   ]
  },
  {
   "cell_type": "code",
   "execution_count": 1,
   "id": "5fe55aa2-0ca2-4bd4-8aa8-81057f1bc8da",
   "metadata": {
    "tags": []
   },
   "outputs": [
    {
     "ename": "NameError",
     "evalue": "name 'client' is not defined",
     "output_type": "error",
     "traceback": [
      "\u001b[1;31m---------------------------------------------------------------------------\u001b[0m",
      "\u001b[1;31mNameError\u001b[0m                                 Traceback (most recent call last)",
      "Cell \u001b[1;32mIn[1], line 16\u001b[0m\n\u001b[0;32m      3\u001b[0m worker_request_dict \u001b[38;5;241m=\u001b[39m { \n\u001b[0;32m      4\u001b[0m     \u001b[38;5;124m'\u001b[39m\u001b[38;5;124mWorker_Reference\u001b[39m\u001b[38;5;124m'\u001b[39m: { \n\u001b[0;32m      5\u001b[0m         \u001b[38;5;124m'\u001b[39m\u001b[38;5;124mID\u001b[39m\u001b[38;5;124m'\u001b[39m: { \n\u001b[1;32m   (...)\u001b[0m\n\u001b[0;32m     12\u001b[0m     \u001b[38;5;124m'\u001b[39m\u001b[38;5;124mIgnore_Invalid_References\u001b[39m\u001b[38;5;124m'\u001b[39m: \u001b[38;5;28;01mNone\u001b[39;00m \n\u001b[0;32m     13\u001b[0m } \n\u001b[0;32m     15\u001b[0m \u001b[38;5;66;03m#print(worker_request_dict)\u001b[39;00m\n\u001b[1;32m---> 16\u001b[0m response \u001b[38;5;241m=\u001b[39m \u001b[43mclient\u001b[49m\u001b[38;5;241m.\u001b[39mservice\u001b[38;5;241m.\u001b[39mGet_Workers(worker_request_dict)\n",
      "\u001b[1;31mNameError\u001b[0m: name 'client' is not defined"
     ]
    }
   ],
   "source": [
    "employee_id = '21082'\n",
    "\n",
    "worker_request_dict = { \n",
    "    'Worker_Reference': { \n",
    "        'ID': { \n",
    "            'type': 'Employee_ID', \n",
    "            '_value_1': employee_id \n",
    "        }, \n",
    "        'Descriptor': None \n",
    "    }, \n",
    "    'Skip_Non_Existing_Instances': None, \n",
    "    'Ignore_Invalid_References': None \n",
    "} \n",
    "\n",
    "#print(worker_request_dict)\n",
    "response = HR_Client.service.Get_Workers(worker_request_dict) \n"
   ]
  },
  {
   "cell_type": "code",
   "execution_count": 390,
   "id": "12aa7e24-50ad-432b-a905-5ae0529ce4ad",
   "metadata": {
    "tags": []
   },
   "outputs": [
    {
     "name": "stdout",
     "output_type": "stream",
     "text": [
      "Alexooo Man\n"
     ]
    }
   ],
   "source": [
    "responseJson = response.Response_Data\n",
    "print(responseJson.Worker[0].Worker_Descriptor)"
   ]
  },
  {
   "cell_type": "markdown",
   "id": "816c3d59-43fd-4615-bf6f-4a2a3999c243",
   "metadata": {},
   "source": [
    "## Get Gender Info"
   ]
  },
  {
   "cell_type": "code",
   "execution_count": 3,
   "id": "b3be257f-84c5-4850-84ec-3b9d395d3c37",
   "metadata": {
    "tags": []
   },
   "outputs": [
    {
     "ename": "NameError",
     "evalue": "name 'client' is not defined",
     "output_type": "error",
     "traceback": [
      "\u001b[1;31m---------------------------------------------------------------------------\u001b[0m",
      "\u001b[1;31mNameError\u001b[0m                                 Traceback (most recent call last)",
      "Cell \u001b[1;32mIn[3], line 13\u001b[0m\n\u001b[0;32m      1\u001b[0m gender_type \u001b[38;5;241m=\u001b[39m \u001b[38;5;124m'\u001b[39m\u001b[38;5;124mMale\u001b[39m\u001b[38;5;124m'\u001b[39m\n\u001b[0;32m      3\u001b[0m gender_request_dict \u001b[38;5;241m=\u001b[39m {\n\u001b[0;32m      4\u001b[0m     \u001b[38;5;124m'\u001b[39m\u001b[38;5;124mGender_Reference\u001b[39m\u001b[38;5;124m'\u001b[39m: {\n\u001b[0;32m      5\u001b[0m         \u001b[38;5;124m'\u001b[39m\u001b[38;5;124mID\u001b[39m\u001b[38;5;124m'\u001b[39m: {\n\u001b[1;32m   (...)\u001b[0m\n\u001b[0;32m     10\u001b[0m     }\n\u001b[0;32m     11\u001b[0m }\n\u001b[1;32m---> 13\u001b[0m element \u001b[38;5;241m=\u001b[39m \u001b[43mclient\u001b[49m\u001b[38;5;241m.\u001b[39mget_element(\u001b[38;5;124m'\u001b[39m\u001b[38;5;124mns0:Get_Genders_Request\u001b[39m\u001b[38;5;124m'\u001b[39m)\n\u001b[0;32m     14\u001b[0m req_obj \u001b[38;5;241m=\u001b[39m element(Request_References \u001b[38;5;241m=\u001b[39m gender_request_dict)\n\u001b[0;32m     16\u001b[0m \u001b[38;5;66;03m#print(element, req_obj)\u001b[39;00m\n",
      "\u001b[1;31mNameError\u001b[0m: name 'client' is not defined"
     ]
    }
   ],
   "source": [
    "gender_type = 'Male'\n",
    "\n",
    "gender_request_dict = {\n",
    "    'Gender_Reference': {\n",
    "        'ID': {\n",
    "            'type': 'Gender_Code',\n",
    "            '_value_1': 'Male'\n",
    "        },\n",
    "        'Descriptor': None\n",
    "    }\n",
    "}\n",
    "\n",
    "element = HR_Client.get_element('ns0:Get_Genders_Request')\n",
    "req_obj = element(Request_References = gender_request_dict)\n",
    "\n",
    "#print(element, req_obj)\n",
    "client.service.Get_Genders(Request_References = gender_request_dict) \n"
   ]
  },
  {
   "cell_type": "markdown",
   "id": "822cbc61-c50b-448c-97c0-c5c12e4eaeca",
   "metadata": {},
   "source": [
    "## Update Business Title"
   ]
  },
  {
   "cell_type": "code",
   "execution_count": 362,
   "id": "2e9b81d1-6e49-4f8e-a8a2-254c4e75fec8",
   "metadata": {
    "tags": []
   },
   "outputs": [
    {
     "data": {
      "text/plain": [
       "{\n",
       "    'Business_Title_Change_Event_Reference': {\n",
       "        'ID': [\n",
       "            {\n",
       "                '_value_1': 'bacec44485ea1002a1c78c4ae5ed0000',\n",
       "                'type': 'WID'\n",
       "            }\n",
       "        ],\n",
       "        'Descriptor': None\n",
       "    },\n",
       "    'version': 'v42.0'\n",
       "}"
      ]
     },
     "execution_count": 362,
     "metadata": {},
     "output_type": "execute_result"
    }
   ],
   "source": [
    "\n",
    "employee_id = '21082'\n",
    "business_title = 'Test_7'\n",
    "effective_date = '2023-11-12'\n",
    "\n",
    "Business_Process_Parameters = {\n",
    "    'Auto_Complete': True,\n",
    "    'Run_Now': True,\n",
    "    'Discard_On_Exit_Validation_Error': True\n",
    "}\n",
    "\n",
    "Change_Business_Title_Business_Process_Data = {\n",
    "    'Worker_Reference': { \n",
    "        'ID': { \n",
    "            'type': 'Employee_ID', \n",
    "            '_value_1': employee_id \n",
    "        }, \n",
    "        'Descriptor': None \n",
    "    },\n",
    "    'Change_Business_Title_Data': {\n",
    "        'Event_Effective_Date': effective_date,\n",
    "        'Proposed_Business_Title': business_title\n",
    "    }\n",
    "}\n",
    "\n",
    "#client.service.Change_Business_Title(None, req_data)\n",
    "\n",
    "HR_Client.service.Change_Business_Title(Business_Process_Parameters, Change_Business_Title_Business_Process_Data)\n"
   ]
  },
  {
   "cell_type": "code",
   "execution_count": 5,
   "id": "f5f31dcc-867a-4b56-935c-65e948a2b9ae",
   "metadata": {
    "tags": []
   },
   "outputs": [],
   "source": [
    "#!pip install jq\n"
   ]
  },
  {
   "cell_type": "markdown",
   "id": "affd25c9-be45-40f1-969c-ccc27e881c2c",
   "metadata": {},
   "source": [
    "## Add Additional Job"
   ]
  },
  {
   "cell_type": "code",
   "execution_count": 29,
   "id": "c69b02fd-5f59-46f9-bc52-4ec5a02450e6",
   "metadata": {
    "tags": []
   },
   "outputs": [
    {
     "name": "stdout",
     "output_type": "stream",
     "text": [
      "Error :  Validation error occurred. There is no available position for the job requisition.\n"
     ]
    }
   ],
   "source": [
    "employee_id = '21072'\n",
    "Organization_Reference_ID = 'SUPERVISORY_Finance_and_Administration'\n",
    "effective_date = '2023-11-17'\n",
    "Job_Requisition_ID = 'R-00306'\n",
    "Event_Classification_Subcategory_ID = 'Add_Additional_Employee_Job_Secondment_Leave_of_Absence_Backfill'\n",
    "\n",
    "Business_Process_Parameters = {\n",
    "    'Auto_Complete': True,\n",
    "    'Run_Now': True,\n",
    "    'Discard_On_Exit_Validation_Error': True\n",
    "}\n",
    "true = True\n",
    "\n",
    "param_1 = {\n",
    "  \"Auto_Complete\": true,\n",
    "  \"Run_Now\": true,\n",
    "  \"Discard_On_Exit_Validation_Error\": true,\n",
    "  \"Comment_Data\": {\n",
    "    \"Comment\": \"\",\n",
    "    \"Worker_Reference\": {\n",
    "      \"ID\": [],\n",
    "      \"Descriptor\": \"\"\n",
    "    }\n",
    "  },\n",
    "  \"Business_Process_Attachment_Data\": []\n",
    "}\n",
    "\n",
    "\n",
    "Add_Additional_Job_Data = {\n",
    "    'Employee_Reference': { \n",
    "        'ID': { \n",
    "            'type': 'Employee_ID', \n",
    "            '_value_1': employee_id \n",
    "        }, \n",
    "        'Descriptor': None \n",
    "    },\n",
    "    'Organization_Reference': {\n",
    "        'ID': {\n",
    "            'type': 'Organization_Reference_ID',\n",
    "            '_value_1': Organization_Reference_ID\n",
    "        }\n",
    "    },\n",
    "    'Job_Requisition_Reference': {\n",
    "        'ID': {\n",
    "            'type': 'Job_Requisition_ID',\n",
    "            '_value_1': Job_Requisition_ID\n",
    "        }\n",
    "    },\n",
    "    'Add_Additional_Job_Event_Data': {\n",
    "        'Additional_Job_Reason_Reference': {\n",
    "            'ID': {\n",
    "                'type': 'Event_Classification_Subcategory_ID',\n",
    "                '_value_1': Event_Classification_Subcategory_ID\n",
    "            }\n",
    "        },\n",
    "        'Position_Details': {\n",
    "        }\n",
    "    },\n",
    "    'Event_Effective_Date': effective_date\n",
    "}\n",
    "\n",
    "responseJson = \"\"\n",
    "#add error handling to the below line of code\n",
    "try:\n",
    "    responseJson = Staffing_Client.service.Add_Additional_Job(param_1, Add_Additional_Job_Data)\n",
    "except zeep.exceptions.Fault as err:\n",
    "    print('Error : ', err)\n",
    "else:\n",
    "    print('No Error : ', responseJson)\n"
   ]
  },
  {
   "cell_type": "code",
   "execution_count": 19,
   "id": "1e26ea4b-3e9e-4266-b8ce-c25f320500a6",
   "metadata": {
    "tags": []
   },
   "outputs": [
    {
     "name": "stdout",
     "output_type": "stream",
     "text": [
      "{\n",
      "    'Event_Reference': {\n",
      "        'ID': [\n",
      "            {\n",
      "                '_value_1': '5617a9851e4d100aed20b96b97cd0000',\n",
      "                'type': 'WID'\n",
      "            }\n",
      "        ],\n",
      "        'Descriptor': None\n",
      "    },\n",
      "    'Employee_Reference': {\n",
      "        'ID': [\n",
      "            {\n",
      "                '_value_1': '9a5ede6dc3964e08bde7d456af5c0a28',\n",
      "                'type': 'WID'\n",
      "            },\n",
      "            {\n",
      "                '_value_1': '21072',\n",
      "                'type': 'Employee_ID'\n",
      "            }\n",
      "        ],\n",
      "        'Descriptor': None\n",
      "    },\n",
      "    'Job_Reference': None,\n",
      "    'version': 'v41.1'\n",
      "}\n"
     ]
    }
   ],
   "source": [
    "print(responseJson)\n"
   ]
  },
  {
   "cell_type": "code",
   "execution_count": null,
   "id": "a7c04b3d-90a4-4008-a1d9-7fd777d809ce",
   "metadata": {},
   "outputs": [],
   "source": []
  }
 ],
 "metadata": {
  "kernelspec": {
   "display_name": "Python 3 (ipykernel)",
   "language": "python",
   "name": "python3"
  },
  "language_info": {
   "codemirror_mode": {
    "name": "ipython",
    "version": 3
   },
   "file_extension": ".py",
   "mimetype": "text/x-python",
   "name": "python",
   "nbconvert_exporter": "python",
   "pygments_lexer": "ipython3",
   "version": "3.10.11"
  }
 },
 "nbformat": 4,
 "nbformat_minor": 5
}
